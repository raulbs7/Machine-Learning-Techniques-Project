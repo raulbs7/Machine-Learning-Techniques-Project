{
  "nbformat": 4,
  "nbformat_minor": 0,
  "metadata": {
    "colab": {
      "name": "Milestone1.ipynb",
      "provenance": [],
      "collapsed_sections": []
    },
    "kernelspec": {
      "name": "python3",
      "display_name": "Python 3"
    }
  },
  "cells": [
    {
      "cell_type": "markdown",
      "metadata": {
        "id": "HToh1XzcZn3U"
      },
      "source": [
        "# Milestone 1: Dengue Investigation\n",
        "This research have been done by Elena María Ruiz and Raúl Bernalte for the subject Machine Learning Techniques at UCLM."
      ]
    },
    {
      "cell_type": "markdown",
      "metadata": {
        "id": "8nj0za0gbChs"
      },
      "source": [
        "The purpose of this research is to determine and predict Dengue spread phenomenon. To reach this objective, we are going to have a data source from the web page of Driven Data.\n",
        "\n",
        "---"
      ]
    },
    {
      "cell_type": "markdown",
      "metadata": {
        "id": "pMmEoT80OIVu"
      },
      "source": [
        "This data has the following features:\n",
        "\n",
        "* ``city`` – City abbreviations: sj for San Juan and iq for Iquitos\n",
        "* ``week_start_date`` – Date given in yyyy-mm-dd format\n",
        "\n",
        "\n",
        "* ``station_max_temp_c`` – Maximum temperature\n",
        "* ``station_min_temp_c`` – Minimum temperature\n",
        "* ``station_avg_temp_c`` – Average temperature\n",
        "* ``station_precip_mm`` – Total precipitation\n",
        "* ``station_diur_temp_rng_c`` – Diurnal temperature range\n",
        "\n",
        "\n",
        "* ``precipitation_amt_mm`` – Total precipitation\n",
        "\n",
        "\n",
        "* ``reanalysis_sat_precip_amt_mm`` – Total precipitation\n",
        "* ``reanalysis_dew_point_temp_k`` – Mean dew point temperature\n",
        "* ``reanalysis_air_temp_k`` – Mean air temperature\n",
        "* ``reanalysis_relative_humidity_percent`` – Mean relative humidity\n",
        "* ``reanalysis_specific_humidity_g_per_kg`` – Mean specific humidity\n",
        "* ``reanalysis_precip_amt_kg_per_m2`` – Total precipitation\n",
        "* ``reanalysis_max_air_temp_k`` – Maximum air temperature\n",
        "* ``reanalysis_min_air_temp_k`` – Minimum air temperature\n",
        "* ``reanalysis_avg_temp_k`` – Average air temperature\n",
        "* ``reanalysis_tdtr_k`` – Diurnal temperature range\n",
        "\n",
        "\n",
        "* ``ndvi_se`` – Pixel southeast of city centroid\n",
        "* ``ndvi_sw`` – Pixel southwest of city centroid\n",
        "* ``ndvi_ne`` – Pixel northeast of city centroid\n",
        "* ``ndvi_nw`` – Pixel northwest of city centroid"
      ]
    },
    {
      "cell_type": "markdown",
      "metadata": {
        "id": "cZsDov4AgjLd"
      },
      "source": [
        "## Initialization\n",
        "\n",
        "First of all we are going to import all the Python libraries normally used in data science."
      ]
    },
    {
      "cell_type": "code",
      "metadata": {
        "id": "VRrGT4Boj_2t"
      },
      "source": [
        "# data load and manipulation\n",
        "from google.colab import files\n",
        "import io\n",
        "# dataframes library\n",
        "import pandas as pd\n",
        "# visualization \n",
        "import matplotlib.pyplot as plt\n",
        "import seaborn as sns\n",
        "import plotly.express as px\n",
        "# basic operations\n",
        "import numpy as np\n",
        "import itertools\n",
        "\n",
        "#preprocessing\n",
        "from sklearn import preprocessing\n",
        "#PCA\n",
        "from sklearn.decomposition import PCA\n",
        "#DBSCAN\n",
        "import sklearn.neighbors"
      ],
      "execution_count": 1,
      "outputs": []
    },
    {
      "cell_type": "markdown",
      "metadata": {
        "id": "k51_Z26GjIrF"
      },
      "source": [
        "This function is used por obtain a dataframe from a csv file, in which we can determine the columns we want."
      ]
    },
    {
      "cell_type": "code",
      "metadata": {
        "id": "pA3BDrJekkoY"
      },
      "source": [
        "def upload_files (index_fields):\n",
        "  uploaded = files.upload()\n",
        "  for fn in uploaded.keys():\n",
        "    print('User uploaded file \"{name}\" with length {length} bytes'.format(\n",
        "        name=fn, length=len(uploaded[fn])))\n",
        "    df = pd.read_csv(io.StringIO(uploaded[fn].decode('utf-8')), index_col = index_fields)\n",
        "    return df"
      ],
      "execution_count": 3,
      "outputs": []
    },
    {
      "cell_type": "code",
      "metadata": {
        "id": "NRh4al_Fkooq",
        "outputId": "0c01f1f1-538f-49d6-e34e-ee74c0893247",
        "colab": {
          "resources": {
            "http://localhost:8080/nbextensions/google.colab/files.js": {
              "data": "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",
              "ok": true,
              "headers": [
                [
                  "content-type",
                  "application/javascript"
                ]
              ],
              "status": 200,
              "status_text": ""
            }
          },
          "base_uri": "https://localhost:8080/",
          "height": 38
        }
      },
      "source": [
        "train = upload_files([])\n",
        "train.head()\n",
        "\n",
        "\n"
      ],
      "execution_count": null,
      "outputs": [
        {
          "output_type": "display_data",
          "data": {
            "text/html": [
              "\n",
              "     <input type=\"file\" id=\"files-84e5908f-5b0b-47b7-80af-9fdf0b2ccea4\" name=\"files[]\" multiple disabled\n",
              "        style=\"border:none\" />\n",
              "     <output id=\"result-84e5908f-5b0b-47b7-80af-9fdf0b2ccea4\">\n",
              "      Upload widget is only available when the cell has been executed in the\n",
              "      current browser session. Please rerun this cell to enable.\n",
              "      </output>\n",
              "      <script src=\"/nbextensions/google.colab/files.js\"></script> "
            ],
            "text/plain": [
              "<IPython.core.display.HTML object>"
            ]
          },
          "metadata": {
            "tags": []
          }
        }
      ]
    },
    {
      "cell_type": "markdown",
      "metadata": {
        "id": "TEsnF9KxlvIb"
      },
      "source": [
        "In our case, we are going to train our model only with the weekly data from 2004 to 2010 at San Juan city."
      ]
    },
    {
      "cell_type": "code",
      "metadata": {
        "id": "7LgJNuJqQVxz",
        "outputId": "c4d60d71-7d08-4f10-f4f7-a26ea33d6ce8",
        "colab": {
          "base_uri": "https://localhost:8080/",
          "height": 224
        }
      },
      "source": [
        "filter_data=train[(train['year'] >= 2004) & (train['year'] <= 2010) & (train['city']=='sj')]\n",
        "filter_data.head()"
      ],
      "execution_count": null,
      "outputs": [
        {
          "output_type": "execute_result",
          "data": {
            "text/html": [
              "<div>\n",
              "<style scoped>\n",
              "    .dataframe tbody tr th:only-of-type {\n",
              "        vertical-align: middle;\n",
              "    }\n",
              "\n",
              "    .dataframe tbody tr th {\n",
              "        vertical-align: top;\n",
              "    }\n",
              "\n",
              "    .dataframe thead th {\n",
              "        text-align: right;\n",
              "    }\n",
              "</style>\n",
              "<table border=\"1\" class=\"dataframe\">\n",
              "  <thead>\n",
              "    <tr style=\"text-align: right;\">\n",
              "      <th></th>\n",
              "      <th>city</th>\n",
              "      <th>year</th>\n",
              "      <th>weekofyear</th>\n",
              "      <th>week_start_date</th>\n",
              "      <th>ndvi_ne</th>\n",
              "      <th>ndvi_nw</th>\n",
              "      <th>ndvi_se</th>\n",
              "      <th>ndvi_sw</th>\n",
              "      <th>precipitation_amt_mm</th>\n",
              "      <th>reanalysis_air_temp_k</th>\n",
              "      <th>reanalysis_avg_temp_k</th>\n",
              "      <th>reanalysis_dew_point_temp_k</th>\n",
              "      <th>reanalysis_max_air_temp_k</th>\n",
              "      <th>reanalysis_min_air_temp_k</th>\n",
              "      <th>reanalysis_precip_amt_kg_per_m2</th>\n",
              "      <th>reanalysis_relative_humidity_percent</th>\n",
              "      <th>reanalysis_sat_precip_amt_mm</th>\n",
              "      <th>reanalysis_specific_humidity_g_per_kg</th>\n",
              "      <th>reanalysis_tdtr_k</th>\n",
              "      <th>station_avg_temp_c</th>\n",
              "      <th>station_diur_temp_rng_c</th>\n",
              "      <th>station_max_temp_c</th>\n",
              "      <th>station_min_temp_c</th>\n",
              "      <th>station_precip_mm</th>\n",
              "    </tr>\n",
              "  </thead>\n",
              "  <tbody>\n",
              "    <tr>\n",
              "      <th>711</th>\n",
              "      <td>sj</td>\n",
              "      <td>2004</td>\n",
              "      <td>1</td>\n",
              "      <td>2004-01-01</td>\n",
              "      <td>-0.26830</td>\n",
              "      <td>-0.123700</td>\n",
              "      <td>0.223757</td>\n",
              "      <td>0.176543</td>\n",
              "      <td>NaN</td>\n",
              "      <td>NaN</td>\n",
              "      <td>NaN</td>\n",
              "      <td>NaN</td>\n",
              "      <td>NaN</td>\n",
              "      <td>NaN</td>\n",
              "      <td>NaN</td>\n",
              "      <td>NaN</td>\n",
              "      <td>NaN</td>\n",
              "      <td>NaN</td>\n",
              "      <td>NaN</td>\n",
              "      <td>NaN</td>\n",
              "      <td>NaN</td>\n",
              "      <td>NaN</td>\n",
              "      <td>NaN</td>\n",
              "      <td>NaN</td>\n",
              "    </tr>\n",
              "    <tr>\n",
              "      <th>712</th>\n",
              "      <td>sj</td>\n",
              "      <td>2004</td>\n",
              "      <td>2</td>\n",
              "      <td>2004-01-08</td>\n",
              "      <td>-0.07310</td>\n",
              "      <td>0.017200</td>\n",
              "      <td>0.214729</td>\n",
              "      <td>0.222443</td>\n",
              "      <td>0.00</td>\n",
              "      <td>297.648571</td>\n",
              "      <td>297.571429</td>\n",
              "      <td>292.374286</td>\n",
              "      <td>299.3</td>\n",
              "      <td>296.1</td>\n",
              "      <td>20.7</td>\n",
              "      <td>72.577143</td>\n",
              "      <td>0.00</td>\n",
              "      <td>13.881429</td>\n",
              "      <td>2.028571</td>\n",
              "      <td>24.385714</td>\n",
              "      <td>5.557143</td>\n",
              "      <td>27.8</td>\n",
              "      <td>20.6</td>\n",
              "      <td>15.6</td>\n",
              "    </tr>\n",
              "    <tr>\n",
              "      <th>713</th>\n",
              "      <td>sj</td>\n",
              "      <td>2004</td>\n",
              "      <td>3</td>\n",
              "      <td>2004-01-15</td>\n",
              "      <td>NaN</td>\n",
              "      <td>0.002600</td>\n",
              "      <td>0.282100</td>\n",
              "      <td>0.289900</td>\n",
              "      <td>36.07</td>\n",
              "      <td>297.800000</td>\n",
              "      <td>297.971429</td>\n",
              "      <td>293.895714</td>\n",
              "      <td>299.5</td>\n",
              "      <td>296.5</td>\n",
              "      <td>20.2</td>\n",
              "      <td>78.942857</td>\n",
              "      <td>36.07</td>\n",
              "      <td>15.257143</td>\n",
              "      <td>2.171429</td>\n",
              "      <td>24.342857</td>\n",
              "      <td>5.957143</td>\n",
              "      <td>28.3</td>\n",
              "      <td>20.0</td>\n",
              "      <td>23.7</td>\n",
              "    </tr>\n",
              "    <tr>\n",
              "      <th>714</th>\n",
              "      <td>sj</td>\n",
              "      <td>2004</td>\n",
              "      <td>4</td>\n",
              "      <td>2004-01-22</td>\n",
              "      <td>-0.18635</td>\n",
              "      <td>-0.178625</td>\n",
              "      <td>-0.015533</td>\n",
              "      <td>0.010250</td>\n",
              "      <td>0.00</td>\n",
              "      <td>297.728571</td>\n",
              "      <td>298.107143</td>\n",
              "      <td>293.665714</td>\n",
              "      <td>300.2</td>\n",
              "      <td>295.7</td>\n",
              "      <td>1.1</td>\n",
              "      <td>78.264286</td>\n",
              "      <td>0.00</td>\n",
              "      <td>15.061429</td>\n",
              "      <td>3.042857</td>\n",
              "      <td>24.528571</td>\n",
              "      <td>6.100000</td>\n",
              "      <td>27.8</td>\n",
              "      <td>20.6</td>\n",
              "      <td>10.2</td>\n",
              "    </tr>\n",
              "    <tr>\n",
              "      <th>715</th>\n",
              "      <td>sj</td>\n",
              "      <td>2004</td>\n",
              "      <td>5</td>\n",
              "      <td>2004-01-29</td>\n",
              "      <td>-0.05350</td>\n",
              "      <td>-0.108000</td>\n",
              "      <td>0.236257</td>\n",
              "      <td>0.280414</td>\n",
              "      <td>0.00</td>\n",
              "      <td>297.560000</td>\n",
              "      <td>297.600000</td>\n",
              "      <td>292.878571</td>\n",
              "      <td>300.0</td>\n",
              "      <td>295.8</td>\n",
              "      <td>2.0</td>\n",
              "      <td>75.422857</td>\n",
              "      <td>0.00</td>\n",
              "      <td>14.390000</td>\n",
              "      <td>2.457143</td>\n",
              "      <td>24.628571</td>\n",
              "      <td>6.200000</td>\n",
              "      <td>28.9</td>\n",
              "      <td>20.0</td>\n",
              "      <td>1.8</td>\n",
              "    </tr>\n",
              "  </tbody>\n",
              "</table>\n",
              "</div>"
            ],
            "text/plain": [
              "    city  year  ...  station_min_temp_c station_precip_mm\n",
              "711   sj  2004  ...                 NaN               NaN\n",
              "712   sj  2004  ...                20.6              15.6\n",
              "713   sj  2004  ...                20.0              23.7\n",
              "714   sj  2004  ...                20.6              10.2\n",
              "715   sj  2004  ...                20.0               1.8\n",
              "\n",
              "[5 rows x 24 columns]"
            ]
          },
          "metadata": {
            "tags": []
          },
          "execution_count": 97
        }
      ]
    },
    {
      "cell_type": "markdown",
      "metadata": {
        "id": "1oalsG2Rm4cK"
      },
      "source": [
        "## Preprocessing"
      ]
    },
    {
      "cell_type": "markdown",
      "metadata": {
        "id": "TNIW8BJbwP8b"
      },
      "source": [
        "We have to delete the columns ``city`` and ``week_start_date``. This data is not determinant information as rows are already ordered by time (``week_start_date`` is implicit by the columns of ``year`` and ``weekofyear``, so it is redundant and we don't need it for our model."
      ]
    },
    {
      "cell_type": "code",
      "metadata": {
        "id": "vBC8BEA92YMf"
      },
      "source": [
        "filter_data = filter_data.drop(['city', 'week_start_date'], axis=1)"
      ],
      "execution_count": null,
      "outputs": []
    },
    {
      "cell_type": "code",
      "metadata": {
        "id": "8OW3UDHSyico",
        "outputId": "beb71ebf-2a35-4605-c21c-11121953854e",
        "colab": {
          "base_uri": "https://localhost:8080/",
          "height": 241
        }
      },
      "source": [
        "print(filter_data.shape)\n",
        "filter_data.head()"
      ],
      "execution_count": null,
      "outputs": [
        {
          "output_type": "stream",
          "text": [
            "(225, 22)\n"
          ],
          "name": "stdout"
        },
        {
          "output_type": "execute_result",
          "data": {
            "text/html": [
              "<div>\n",
              "<style scoped>\n",
              "    .dataframe tbody tr th:only-of-type {\n",
              "        vertical-align: middle;\n",
              "    }\n",
              "\n",
              "    .dataframe tbody tr th {\n",
              "        vertical-align: top;\n",
              "    }\n",
              "\n",
              "    .dataframe thead th {\n",
              "        text-align: right;\n",
              "    }\n",
              "</style>\n",
              "<table border=\"1\" class=\"dataframe\">\n",
              "  <thead>\n",
              "    <tr style=\"text-align: right;\">\n",
              "      <th></th>\n",
              "      <th>year</th>\n",
              "      <th>weekofyear</th>\n",
              "      <th>ndvi_ne</th>\n",
              "      <th>ndvi_nw</th>\n",
              "      <th>ndvi_se</th>\n",
              "      <th>ndvi_sw</th>\n",
              "      <th>precipitation_amt_mm</th>\n",
              "      <th>reanalysis_air_temp_k</th>\n",
              "      <th>reanalysis_avg_temp_k</th>\n",
              "      <th>reanalysis_dew_point_temp_k</th>\n",
              "      <th>reanalysis_max_air_temp_k</th>\n",
              "      <th>reanalysis_min_air_temp_k</th>\n",
              "      <th>reanalysis_precip_amt_kg_per_m2</th>\n",
              "      <th>reanalysis_relative_humidity_percent</th>\n",
              "      <th>reanalysis_sat_precip_amt_mm</th>\n",
              "      <th>reanalysis_specific_humidity_g_per_kg</th>\n",
              "      <th>reanalysis_tdtr_k</th>\n",
              "      <th>station_avg_temp_c</th>\n",
              "      <th>station_diur_temp_rng_c</th>\n",
              "      <th>station_max_temp_c</th>\n",
              "      <th>station_min_temp_c</th>\n",
              "      <th>station_precip_mm</th>\n",
              "    </tr>\n",
              "  </thead>\n",
              "  <tbody>\n",
              "    <tr>\n",
              "      <th>711</th>\n",
              "      <td>2004</td>\n",
              "      <td>1</td>\n",
              "      <td>-0.26830</td>\n",
              "      <td>-0.123700</td>\n",
              "      <td>0.223757</td>\n",
              "      <td>0.176543</td>\n",
              "      <td>NaN</td>\n",
              "      <td>NaN</td>\n",
              "      <td>NaN</td>\n",
              "      <td>NaN</td>\n",
              "      <td>NaN</td>\n",
              "      <td>NaN</td>\n",
              "      <td>NaN</td>\n",
              "      <td>NaN</td>\n",
              "      <td>NaN</td>\n",
              "      <td>NaN</td>\n",
              "      <td>NaN</td>\n",
              "      <td>NaN</td>\n",
              "      <td>NaN</td>\n",
              "      <td>NaN</td>\n",
              "      <td>NaN</td>\n",
              "      <td>NaN</td>\n",
              "    </tr>\n",
              "    <tr>\n",
              "      <th>712</th>\n",
              "      <td>2004</td>\n",
              "      <td>2</td>\n",
              "      <td>-0.07310</td>\n",
              "      <td>0.017200</td>\n",
              "      <td>0.214729</td>\n",
              "      <td>0.222443</td>\n",
              "      <td>0.00</td>\n",
              "      <td>297.648571</td>\n",
              "      <td>297.571429</td>\n",
              "      <td>292.374286</td>\n",
              "      <td>299.3</td>\n",
              "      <td>296.1</td>\n",
              "      <td>20.7</td>\n",
              "      <td>72.577143</td>\n",
              "      <td>0.00</td>\n",
              "      <td>13.881429</td>\n",
              "      <td>2.028571</td>\n",
              "      <td>24.385714</td>\n",
              "      <td>5.557143</td>\n",
              "      <td>27.8</td>\n",
              "      <td>20.6</td>\n",
              "      <td>15.6</td>\n",
              "    </tr>\n",
              "    <tr>\n",
              "      <th>713</th>\n",
              "      <td>2004</td>\n",
              "      <td>3</td>\n",
              "      <td>NaN</td>\n",
              "      <td>0.002600</td>\n",
              "      <td>0.282100</td>\n",
              "      <td>0.289900</td>\n",
              "      <td>36.07</td>\n",
              "      <td>297.800000</td>\n",
              "      <td>297.971429</td>\n",
              "      <td>293.895714</td>\n",
              "      <td>299.5</td>\n",
              "      <td>296.5</td>\n",
              "      <td>20.2</td>\n",
              "      <td>78.942857</td>\n",
              "      <td>36.07</td>\n",
              "      <td>15.257143</td>\n",
              "      <td>2.171429</td>\n",
              "      <td>24.342857</td>\n",
              "      <td>5.957143</td>\n",
              "      <td>28.3</td>\n",
              "      <td>20.0</td>\n",
              "      <td>23.7</td>\n",
              "    </tr>\n",
              "    <tr>\n",
              "      <th>714</th>\n",
              "      <td>2004</td>\n",
              "      <td>4</td>\n",
              "      <td>-0.18635</td>\n",
              "      <td>-0.178625</td>\n",
              "      <td>-0.015533</td>\n",
              "      <td>0.010250</td>\n",
              "      <td>0.00</td>\n",
              "      <td>297.728571</td>\n",
              "      <td>298.107143</td>\n",
              "      <td>293.665714</td>\n",
              "      <td>300.2</td>\n",
              "      <td>295.7</td>\n",
              "      <td>1.1</td>\n",
              "      <td>78.264286</td>\n",
              "      <td>0.00</td>\n",
              "      <td>15.061429</td>\n",
              "      <td>3.042857</td>\n",
              "      <td>24.528571</td>\n",
              "      <td>6.100000</td>\n",
              "      <td>27.8</td>\n",
              "      <td>20.6</td>\n",
              "      <td>10.2</td>\n",
              "    </tr>\n",
              "    <tr>\n",
              "      <th>715</th>\n",
              "      <td>2004</td>\n",
              "      <td>5</td>\n",
              "      <td>-0.05350</td>\n",
              "      <td>-0.108000</td>\n",
              "      <td>0.236257</td>\n",
              "      <td>0.280414</td>\n",
              "      <td>0.00</td>\n",
              "      <td>297.560000</td>\n",
              "      <td>297.600000</td>\n",
              "      <td>292.878571</td>\n",
              "      <td>300.0</td>\n",
              "      <td>295.8</td>\n",
              "      <td>2.0</td>\n",
              "      <td>75.422857</td>\n",
              "      <td>0.00</td>\n",
              "      <td>14.390000</td>\n",
              "      <td>2.457143</td>\n",
              "      <td>24.628571</td>\n",
              "      <td>6.200000</td>\n",
              "      <td>28.9</td>\n",
              "      <td>20.0</td>\n",
              "      <td>1.8</td>\n",
              "    </tr>\n",
              "  </tbody>\n",
              "</table>\n",
              "</div>"
            ],
            "text/plain": [
              "     year  weekofyear  ...  station_min_temp_c  station_precip_mm\n",
              "711  2004           1  ...                 NaN                NaN\n",
              "712  2004           2  ...                20.6               15.6\n",
              "713  2004           3  ...                20.0               23.7\n",
              "714  2004           4  ...                20.6               10.2\n",
              "715  2004           5  ...                20.0                1.8\n",
              "\n",
              "[5 rows x 22 columns]"
            ]
          },
          "metadata": {
            "tags": []
          },
          "execution_count": 100
        }
      ]
    },
    {
      "cell_type": "markdown",
      "metadata": {
        "id": "Zz7bK9WTpvs6"
      },
      "source": [
        "### Variable categorization\n"
      ]
    },
    {
      "cell_type": "markdown",
      "metadata": {
        "id": "1HKvzq_vp41p"
      },
      "source": [
        "One thing that we are going to facilitate us is to convert the column ``year`` into values from 1 like the column ``weekofyear``. In our case, the years go from 2004 to 2010, so the interval goes from 1 to 7."
      ]
    },
    {
      "cell_type": "code",
      "metadata": {
        "id": "N_B6a-cNRRNQ",
        "outputId": "c70e3168-2a22-4d87-9d9f-1de6159fe5b0",
        "colab": {
          "base_uri": "https://localhost:8080/",
          "height": 224
        }
      },
      "source": [
        "changes = {'year': {2004: 1, 2005: 2, 2006: 3, 2007: 4, 2008: 5, 2009: 6, 2010: 7}}\n",
        "\n",
        "filter_data = filter_data.replace(changes)\n",
        "filter_data.head()"
      ],
      "execution_count": null,
      "outputs": [
        {
          "output_type": "execute_result",
          "data": {
            "text/html": [
              "<div>\n",
              "<style scoped>\n",
              "    .dataframe tbody tr th:only-of-type {\n",
              "        vertical-align: middle;\n",
              "    }\n",
              "\n",
              "    .dataframe tbody tr th {\n",
              "        vertical-align: top;\n",
              "    }\n",
              "\n",
              "    .dataframe thead th {\n",
              "        text-align: right;\n",
              "    }\n",
              "</style>\n",
              "<table border=\"1\" class=\"dataframe\">\n",
              "  <thead>\n",
              "    <tr style=\"text-align: right;\">\n",
              "      <th></th>\n",
              "      <th>year</th>\n",
              "      <th>weekofyear</th>\n",
              "      <th>ndvi_ne</th>\n",
              "      <th>ndvi_nw</th>\n",
              "      <th>ndvi_se</th>\n",
              "      <th>ndvi_sw</th>\n",
              "      <th>precipitation_amt_mm</th>\n",
              "      <th>reanalysis_air_temp_k</th>\n",
              "      <th>reanalysis_avg_temp_k</th>\n",
              "      <th>reanalysis_dew_point_temp_k</th>\n",
              "      <th>reanalysis_max_air_temp_k</th>\n",
              "      <th>reanalysis_min_air_temp_k</th>\n",
              "      <th>reanalysis_precip_amt_kg_per_m2</th>\n",
              "      <th>reanalysis_relative_humidity_percent</th>\n",
              "      <th>reanalysis_sat_precip_amt_mm</th>\n",
              "      <th>reanalysis_specific_humidity_g_per_kg</th>\n",
              "      <th>reanalysis_tdtr_k</th>\n",
              "      <th>station_avg_temp_c</th>\n",
              "      <th>station_diur_temp_rng_c</th>\n",
              "      <th>station_max_temp_c</th>\n",
              "      <th>station_min_temp_c</th>\n",
              "      <th>station_precip_mm</th>\n",
              "    </tr>\n",
              "  </thead>\n",
              "  <tbody>\n",
              "    <tr>\n",
              "      <th>711</th>\n",
              "      <td>1</td>\n",
              "      <td>1</td>\n",
              "      <td>-0.26830</td>\n",
              "      <td>-0.123700</td>\n",
              "      <td>0.223757</td>\n",
              "      <td>0.176543</td>\n",
              "      <td>NaN</td>\n",
              "      <td>NaN</td>\n",
              "      <td>NaN</td>\n",
              "      <td>NaN</td>\n",
              "      <td>NaN</td>\n",
              "      <td>NaN</td>\n",
              "      <td>NaN</td>\n",
              "      <td>NaN</td>\n",
              "      <td>NaN</td>\n",
              "      <td>NaN</td>\n",
              "      <td>NaN</td>\n",
              "      <td>NaN</td>\n",
              "      <td>NaN</td>\n",
              "      <td>NaN</td>\n",
              "      <td>NaN</td>\n",
              "      <td>NaN</td>\n",
              "    </tr>\n",
              "    <tr>\n",
              "      <th>712</th>\n",
              "      <td>1</td>\n",
              "      <td>2</td>\n",
              "      <td>-0.07310</td>\n",
              "      <td>0.017200</td>\n",
              "      <td>0.214729</td>\n",
              "      <td>0.222443</td>\n",
              "      <td>0.00</td>\n",
              "      <td>297.648571</td>\n",
              "      <td>297.571429</td>\n",
              "      <td>292.374286</td>\n",
              "      <td>299.3</td>\n",
              "      <td>296.1</td>\n",
              "      <td>20.7</td>\n",
              "      <td>72.577143</td>\n",
              "      <td>0.00</td>\n",
              "      <td>13.881429</td>\n",
              "      <td>2.028571</td>\n",
              "      <td>24.385714</td>\n",
              "      <td>5.557143</td>\n",
              "      <td>27.8</td>\n",
              "      <td>20.6</td>\n",
              "      <td>15.6</td>\n",
              "    </tr>\n",
              "    <tr>\n",
              "      <th>713</th>\n",
              "      <td>1</td>\n",
              "      <td>3</td>\n",
              "      <td>NaN</td>\n",
              "      <td>0.002600</td>\n",
              "      <td>0.282100</td>\n",
              "      <td>0.289900</td>\n",
              "      <td>36.07</td>\n",
              "      <td>297.800000</td>\n",
              "      <td>297.971429</td>\n",
              "      <td>293.895714</td>\n",
              "      <td>299.5</td>\n",
              "      <td>296.5</td>\n",
              "      <td>20.2</td>\n",
              "      <td>78.942857</td>\n",
              "      <td>36.07</td>\n",
              "      <td>15.257143</td>\n",
              "      <td>2.171429</td>\n",
              "      <td>24.342857</td>\n",
              "      <td>5.957143</td>\n",
              "      <td>28.3</td>\n",
              "      <td>20.0</td>\n",
              "      <td>23.7</td>\n",
              "    </tr>\n",
              "    <tr>\n",
              "      <th>714</th>\n",
              "      <td>1</td>\n",
              "      <td>4</td>\n",
              "      <td>-0.18635</td>\n",
              "      <td>-0.178625</td>\n",
              "      <td>-0.015533</td>\n",
              "      <td>0.010250</td>\n",
              "      <td>0.00</td>\n",
              "      <td>297.728571</td>\n",
              "      <td>298.107143</td>\n",
              "      <td>293.665714</td>\n",
              "      <td>300.2</td>\n",
              "      <td>295.7</td>\n",
              "      <td>1.1</td>\n",
              "      <td>78.264286</td>\n",
              "      <td>0.00</td>\n",
              "      <td>15.061429</td>\n",
              "      <td>3.042857</td>\n",
              "      <td>24.528571</td>\n",
              "      <td>6.100000</td>\n",
              "      <td>27.8</td>\n",
              "      <td>20.6</td>\n",
              "      <td>10.2</td>\n",
              "    </tr>\n",
              "    <tr>\n",
              "      <th>715</th>\n",
              "      <td>1</td>\n",
              "      <td>5</td>\n",
              "      <td>-0.05350</td>\n",
              "      <td>-0.108000</td>\n",
              "      <td>0.236257</td>\n",
              "      <td>0.280414</td>\n",
              "      <td>0.00</td>\n",
              "      <td>297.560000</td>\n",
              "      <td>297.600000</td>\n",
              "      <td>292.878571</td>\n",
              "      <td>300.0</td>\n",
              "      <td>295.8</td>\n",
              "      <td>2.0</td>\n",
              "      <td>75.422857</td>\n",
              "      <td>0.00</td>\n",
              "      <td>14.390000</td>\n",
              "      <td>2.457143</td>\n",
              "      <td>24.628571</td>\n",
              "      <td>6.200000</td>\n",
              "      <td>28.9</td>\n",
              "      <td>20.0</td>\n",
              "      <td>1.8</td>\n",
              "    </tr>\n",
              "  </tbody>\n",
              "</table>\n",
              "</div>"
            ],
            "text/plain": [
              "     year  weekofyear  ...  station_min_temp_c  station_precip_mm\n",
              "711     1           1  ...                 NaN                NaN\n",
              "712     1           2  ...                20.6               15.6\n",
              "713     1           3  ...                20.0               23.7\n",
              "714     1           4  ...                20.6               10.2\n",
              "715     1           5  ...                20.0                1.8\n",
              "\n",
              "[5 rows x 22 columns]"
            ]
          },
          "metadata": {
            "tags": []
          },
          "execution_count": 105
        }
      ]
    },
    {
      "cell_type": "markdown",
      "metadata": {
        "id": "vLx8IizHp9cQ"
      },
      "source": [
        "### Discretization"
      ]
    },
    {
      "cell_type": "markdown",
      "metadata": {
        "id": "flFpAA57qD5e"
      },
      "source": [
        "Also, we don't considerate neccesary to make a discretization with the values of our feautures. Instead of this, we are going to maintain the continuos values, as we think they take an important role being in its this continuos form."
      ]
    },
    {
      "cell_type": "markdown",
      "metadata": {
        "id": "U_Hn7l493wGi"
      },
      "source": [
        "### Null values treatment\n"
      ]
    },
    {
      "cell_type": "markdown",
      "metadata": {
        "id": "Dqehr1Ic4J_Q"
      },
      "source": [
        "Next, checking if there is any value that it is not registered or not inserted, we can observe that all the columns has almost one lost value. For this reason, we need to do something and treat them."
      ]
    },
    {
      "cell_type": "code",
      "metadata": {
        "id": "X7eN9FTRz6Xp",
        "outputId": "7e5ca2c3-7ac5-44cb-d61f-ee1f894b9e1d",
        "colab": {
          "base_uri": "https://localhost:8080/",
          "height": 408
        }
      },
      "source": [
        "pd.isnull(filter_data).any()"
      ],
      "execution_count": null,
      "outputs": [
        {
          "output_type": "execute_result",
          "data": {
            "text/plain": [
              "year                                     False\n",
              "weekofyear                               False\n",
              "ndvi_ne                                   True\n",
              "ndvi_nw                                   True\n",
              "ndvi_se                                   True\n",
              "ndvi_sw                                   True\n",
              "precipitation_amt_mm                      True\n",
              "reanalysis_air_temp_k                     True\n",
              "reanalysis_avg_temp_k                     True\n",
              "reanalysis_dew_point_temp_k               True\n",
              "reanalysis_max_air_temp_k                 True\n",
              "reanalysis_min_air_temp_k                 True\n",
              "reanalysis_precip_amt_kg_per_m2           True\n",
              "reanalysis_relative_humidity_percent      True\n",
              "reanalysis_sat_precip_amt_mm              True\n",
              "reanalysis_specific_humidity_g_per_kg     True\n",
              "reanalysis_tdtr_k                         True\n",
              "station_avg_temp_c                        True\n",
              "station_diur_temp_rng_c                   True\n",
              "station_max_temp_c                        True\n",
              "station_min_temp_c                        True\n",
              "station_precip_mm                         True\n",
              "dtype: bool"
            ]
          },
          "metadata": {
            "tags": []
          },
          "execution_count": 106
        }
      ]
    },
    {
      "cell_type": "markdown",
      "metadata": {
        "id": "A6DlU4tGLkUD"
      },
      "source": [
        "Since we saw that the first entry has null values, we use ``bfill``. This method sees what it is the next valid observation to fill in."
      ]
    },
    {
      "cell_type": "code",
      "metadata": {
        "id": "ioF4aTpW38zR",
        "outputId": "e8295d15-5356-40d4-8a85-5c63c22f9ac1",
        "colab": {
          "base_uri": "https://localhost:8080/",
          "height": 224
        }
      },
      "source": [
        "filter_data.fillna(method='bfill', inplace=True)\n",
        "filter_data.head()"
      ],
      "execution_count": null,
      "outputs": [
        {
          "output_type": "execute_result",
          "data": {
            "text/html": [
              "<div>\n",
              "<style scoped>\n",
              "    .dataframe tbody tr th:only-of-type {\n",
              "        vertical-align: middle;\n",
              "    }\n",
              "\n",
              "    .dataframe tbody tr th {\n",
              "        vertical-align: top;\n",
              "    }\n",
              "\n",
              "    .dataframe thead th {\n",
              "        text-align: right;\n",
              "    }\n",
              "</style>\n",
              "<table border=\"1\" class=\"dataframe\">\n",
              "  <thead>\n",
              "    <tr style=\"text-align: right;\">\n",
              "      <th></th>\n",
              "      <th>year</th>\n",
              "      <th>weekofyear</th>\n",
              "      <th>ndvi_ne</th>\n",
              "      <th>ndvi_nw</th>\n",
              "      <th>ndvi_se</th>\n",
              "      <th>ndvi_sw</th>\n",
              "      <th>precipitation_amt_mm</th>\n",
              "      <th>reanalysis_air_temp_k</th>\n",
              "      <th>reanalysis_avg_temp_k</th>\n",
              "      <th>reanalysis_dew_point_temp_k</th>\n",
              "      <th>reanalysis_max_air_temp_k</th>\n",
              "      <th>reanalysis_min_air_temp_k</th>\n",
              "      <th>reanalysis_precip_amt_kg_per_m2</th>\n",
              "      <th>reanalysis_relative_humidity_percent</th>\n",
              "      <th>reanalysis_sat_precip_amt_mm</th>\n",
              "      <th>reanalysis_specific_humidity_g_per_kg</th>\n",
              "      <th>reanalysis_tdtr_k</th>\n",
              "      <th>station_avg_temp_c</th>\n",
              "      <th>station_diur_temp_rng_c</th>\n",
              "      <th>station_max_temp_c</th>\n",
              "      <th>station_min_temp_c</th>\n",
              "      <th>station_precip_mm</th>\n",
              "    </tr>\n",
              "  </thead>\n",
              "  <tbody>\n",
              "    <tr>\n",
              "      <th>711</th>\n",
              "      <td>1</td>\n",
              "      <td>1</td>\n",
              "      <td>-0.26830</td>\n",
              "      <td>-0.123700</td>\n",
              "      <td>0.223757</td>\n",
              "      <td>0.176543</td>\n",
              "      <td>0.00</td>\n",
              "      <td>297.648571</td>\n",
              "      <td>297.571429</td>\n",
              "      <td>292.374286</td>\n",
              "      <td>299.3</td>\n",
              "      <td>296.1</td>\n",
              "      <td>20.7</td>\n",
              "      <td>72.577143</td>\n",
              "      <td>0.00</td>\n",
              "      <td>13.881429</td>\n",
              "      <td>2.028571</td>\n",
              "      <td>24.385714</td>\n",
              "      <td>5.557143</td>\n",
              "      <td>27.8</td>\n",
              "      <td>20.6</td>\n",
              "      <td>15.6</td>\n",
              "    </tr>\n",
              "    <tr>\n",
              "      <th>712</th>\n",
              "      <td>1</td>\n",
              "      <td>2</td>\n",
              "      <td>-0.07310</td>\n",
              "      <td>0.017200</td>\n",
              "      <td>0.214729</td>\n",
              "      <td>0.222443</td>\n",
              "      <td>0.00</td>\n",
              "      <td>297.648571</td>\n",
              "      <td>297.571429</td>\n",
              "      <td>292.374286</td>\n",
              "      <td>299.3</td>\n",
              "      <td>296.1</td>\n",
              "      <td>20.7</td>\n",
              "      <td>72.577143</td>\n",
              "      <td>0.00</td>\n",
              "      <td>13.881429</td>\n",
              "      <td>2.028571</td>\n",
              "      <td>24.385714</td>\n",
              "      <td>5.557143</td>\n",
              "      <td>27.8</td>\n",
              "      <td>20.6</td>\n",
              "      <td>15.6</td>\n",
              "    </tr>\n",
              "    <tr>\n",
              "      <th>713</th>\n",
              "      <td>1</td>\n",
              "      <td>3</td>\n",
              "      <td>-0.18635</td>\n",
              "      <td>0.002600</td>\n",
              "      <td>0.282100</td>\n",
              "      <td>0.289900</td>\n",
              "      <td>36.07</td>\n",
              "      <td>297.800000</td>\n",
              "      <td>297.971429</td>\n",
              "      <td>293.895714</td>\n",
              "      <td>299.5</td>\n",
              "      <td>296.5</td>\n",
              "      <td>20.2</td>\n",
              "      <td>78.942857</td>\n",
              "      <td>36.07</td>\n",
              "      <td>15.257143</td>\n",
              "      <td>2.171429</td>\n",
              "      <td>24.342857</td>\n",
              "      <td>5.957143</td>\n",
              "      <td>28.3</td>\n",
              "      <td>20.0</td>\n",
              "      <td>23.7</td>\n",
              "    </tr>\n",
              "    <tr>\n",
              "      <th>714</th>\n",
              "      <td>1</td>\n",
              "      <td>4</td>\n",
              "      <td>-0.18635</td>\n",
              "      <td>-0.178625</td>\n",
              "      <td>-0.015533</td>\n",
              "      <td>0.010250</td>\n",
              "      <td>0.00</td>\n",
              "      <td>297.728571</td>\n",
              "      <td>298.107143</td>\n",
              "      <td>293.665714</td>\n",
              "      <td>300.2</td>\n",
              "      <td>295.7</td>\n",
              "      <td>1.1</td>\n",
              "      <td>78.264286</td>\n",
              "      <td>0.00</td>\n",
              "      <td>15.061429</td>\n",
              "      <td>3.042857</td>\n",
              "      <td>24.528571</td>\n",
              "      <td>6.100000</td>\n",
              "      <td>27.8</td>\n",
              "      <td>20.6</td>\n",
              "      <td>10.2</td>\n",
              "    </tr>\n",
              "    <tr>\n",
              "      <th>715</th>\n",
              "      <td>1</td>\n",
              "      <td>5</td>\n",
              "      <td>-0.05350</td>\n",
              "      <td>-0.108000</td>\n",
              "      <td>0.236257</td>\n",
              "      <td>0.280414</td>\n",
              "      <td>0.00</td>\n",
              "      <td>297.560000</td>\n",
              "      <td>297.600000</td>\n",
              "      <td>292.878571</td>\n",
              "      <td>300.0</td>\n",
              "      <td>295.8</td>\n",
              "      <td>2.0</td>\n",
              "      <td>75.422857</td>\n",
              "      <td>0.00</td>\n",
              "      <td>14.390000</td>\n",
              "      <td>2.457143</td>\n",
              "      <td>24.628571</td>\n",
              "      <td>6.200000</td>\n",
              "      <td>28.9</td>\n",
              "      <td>20.0</td>\n",
              "      <td>1.8</td>\n",
              "    </tr>\n",
              "  </tbody>\n",
              "</table>\n",
              "</div>"
            ],
            "text/plain": [
              "     year  weekofyear  ...  station_min_temp_c  station_precip_mm\n",
              "711     1           1  ...                20.6               15.6\n",
              "712     1           2  ...                20.6               15.6\n",
              "713     1           3  ...                20.0               23.7\n",
              "714     1           4  ...                20.6               10.2\n",
              "715     1           5  ...                20.0                1.8\n",
              "\n",
              "[5 rows x 22 columns]"
            ]
          },
          "metadata": {
            "tags": []
          },
          "execution_count": 107
        }
      ]
    },
    {
      "cell_type": "markdown",
      "metadata": {
        "id": "uLqgXcD1YBCI"
      },
      "source": [
        "### Normalization\n",
        "We do this to be sure that all the variables are in the same scale. For the normalization we use ``MinMaxScaler()``as it is more robust with small standard deviations and we don't know exactly if the dataset has a normal distribution."
      ]
    },
    {
      "cell_type": "code",
      "metadata": {
        "id": "91jVd95CgxZO",
        "outputId": "5f47c4a4-d887-4ce8-9006-03be280ff212",
        "colab": {
          "base_uri": "https://localhost:8080/",
          "height": 317
        }
      },
      "source": [
        "filter_data.describe()"
      ],
      "execution_count": null,
      "outputs": [
        {
          "output_type": "execute_result",
          "data": {
            "text/html": [
              "<div>\n",
              "<style scoped>\n",
              "    .dataframe tbody tr th:only-of-type {\n",
              "        vertical-align: middle;\n",
              "    }\n",
              "\n",
              "    .dataframe tbody tr th {\n",
              "        vertical-align: top;\n",
              "    }\n",
              "\n",
              "    .dataframe thead th {\n",
              "        text-align: right;\n",
              "    }\n",
              "</style>\n",
              "<table border=\"1\" class=\"dataframe\">\n",
              "  <thead>\n",
              "    <tr style=\"text-align: right;\">\n",
              "      <th></th>\n",
              "      <th>year</th>\n",
              "      <th>weekofyear</th>\n",
              "      <th>ndvi_ne</th>\n",
              "      <th>ndvi_nw</th>\n",
              "      <th>ndvi_se</th>\n",
              "      <th>ndvi_sw</th>\n",
              "      <th>precipitation_amt_mm</th>\n",
              "      <th>reanalysis_air_temp_k</th>\n",
              "      <th>reanalysis_avg_temp_k</th>\n",
              "      <th>reanalysis_dew_point_temp_k</th>\n",
              "      <th>reanalysis_max_air_temp_k</th>\n",
              "      <th>reanalysis_min_air_temp_k</th>\n",
              "      <th>reanalysis_precip_amt_kg_per_m2</th>\n",
              "      <th>reanalysis_relative_humidity_percent</th>\n",
              "      <th>reanalysis_sat_precip_amt_mm</th>\n",
              "      <th>reanalysis_specific_humidity_g_per_kg</th>\n",
              "      <th>reanalysis_tdtr_k</th>\n",
              "      <th>station_avg_temp_c</th>\n",
              "      <th>station_diur_temp_rng_c</th>\n",
              "      <th>station_max_temp_c</th>\n",
              "      <th>station_min_temp_c</th>\n",
              "      <th>station_precip_mm</th>\n",
              "    </tr>\n",
              "  </thead>\n",
              "  <tbody>\n",
              "    <tr>\n",
              "      <th>count</th>\n",
              "      <td>225.000000</td>\n",
              "      <td>225.000000</td>\n",
              "      <td>225.000000</td>\n",
              "      <td>225.000000</td>\n",
              "      <td>225.000000</td>\n",
              "      <td>225.000000</td>\n",
              "      <td>225.000000</td>\n",
              "      <td>225.000000</td>\n",
              "      <td>225.000000</td>\n",
              "      <td>225.000000</td>\n",
              "      <td>225.000000</td>\n",
              "      <td>225.000000</td>\n",
              "      <td>225.000000</td>\n",
              "      <td>225.000000</td>\n",
              "      <td>225.000000</td>\n",
              "      <td>225.000000</td>\n",
              "      <td>225.000000</td>\n",
              "      <td>225.000000</td>\n",
              "      <td>225.000000</td>\n",
              "      <td>225.000000</td>\n",
              "      <td>225.000000</td>\n",
              "      <td>225.000000</td>\n",
              "    </tr>\n",
              "    <tr>\n",
              "      <th>mean</th>\n",
              "      <td>2.688889</td>\n",
              "      <td>25.182222</td>\n",
              "      <td>-0.003608</td>\n",
              "      <td>0.000063</td>\n",
              "      <td>0.166032</td>\n",
              "      <td>0.157152</td>\n",
              "      <td>36.024400</td>\n",
              "      <td>299.438692</td>\n",
              "      <td>299.561492</td>\n",
              "      <td>295.106483</td>\n",
              "      <td>301.688889</td>\n",
              "      <td>297.477333</td>\n",
              "      <td>26.564044</td>\n",
              "      <td>77.260768</td>\n",
              "      <td>36.024400</td>\n",
              "      <td>16.559467</td>\n",
              "      <td>2.723111</td>\n",
              "      <td>26.865968</td>\n",
              "      <td>6.478603</td>\n",
              "      <td>31.283111</td>\n",
              "      <td>22.589778</td>\n",
              "      <td>31.105333</td>\n",
              "    </tr>\n",
              "    <tr>\n",
              "      <th>std</th>\n",
              "      <td>1.264597</td>\n",
              "      <td>15.254907</td>\n",
              "      <td>0.112609</td>\n",
              "      <td>0.083882</td>\n",
              "      <td>0.060176</td>\n",
              "      <td>0.056927</td>\n",
              "      <td>42.522343</td>\n",
              "      <td>1.390159</td>\n",
              "      <td>1.374948</td>\n",
              "      <td>1.666079</td>\n",
              "      <td>1.431879</td>\n",
              "      <td>1.404226</td>\n",
              "      <td>31.023531</td>\n",
              "      <td>3.023600</td>\n",
              "      <td>42.522343</td>\n",
              "      <td>1.673556</td>\n",
              "      <td>0.508566</td>\n",
              "      <td>1.621222</td>\n",
              "      <td>0.842386</td>\n",
              "      <td>2.017818</td>\n",
              "      <td>1.602964</td>\n",
              "      <td>33.604244</td>\n",
              "    </tr>\n",
              "    <tr>\n",
              "      <th>min</th>\n",
              "      <td>1.000000</td>\n",
              "      <td>1.000000</td>\n",
              "      <td>-0.406250</td>\n",
              "      <td>-0.456100</td>\n",
              "      <td>-0.015533</td>\n",
              "      <td>0.010250</td>\n",
              "      <td>0.000000</td>\n",
              "      <td>296.101429</td>\n",
              "      <td>296.171429</td>\n",
              "      <td>290.467143</td>\n",
              "      <td>297.800000</td>\n",
              "      <td>293.300000</td>\n",
              "      <td>0.000000</td>\n",
              "      <td>70.642857</td>\n",
              "      <td>0.000000</td>\n",
              "      <td>12.362857</td>\n",
              "      <td>1.771429</td>\n",
              "      <td>23.314286</td>\n",
              "      <td>4.528571</td>\n",
              "      <td>26.700000</td>\n",
              "      <td>17.800000</td>\n",
              "      <td>0.000000</td>\n",
              "    </tr>\n",
              "    <tr>\n",
              "      <th>25%</th>\n",
              "      <td>2.000000</td>\n",
              "      <td>12.000000</td>\n",
              "      <td>-0.054800</td>\n",
              "      <td>-0.045550</td>\n",
              "      <td>0.118357</td>\n",
              "      <td>0.117729</td>\n",
              "      <td>0.000000</td>\n",
              "      <td>298.254286</td>\n",
              "      <td>298.457143</td>\n",
              "      <td>293.645714</td>\n",
              "      <td>300.400000</td>\n",
              "      <td>296.500000</td>\n",
              "      <td>8.570000</td>\n",
              "      <td>75.014286</td>\n",
              "      <td>0.000000</td>\n",
              "      <td>15.061429</td>\n",
              "      <td>2.385714</td>\n",
              "      <td>25.400000</td>\n",
              "      <td>6.014286</td>\n",
              "      <td>29.400000</td>\n",
              "      <td>21.100000</td>\n",
              "      <td>7.700000</td>\n",
              "    </tr>\n",
              "    <tr>\n",
              "      <th>50%</th>\n",
              "      <td>3.000000</td>\n",
              "      <td>24.000000</td>\n",
              "      <td>0.007900</td>\n",
              "      <td>0.005633</td>\n",
              "      <td>0.166757</td>\n",
              "      <td>0.153129</td>\n",
              "      <td>20.920000</td>\n",
              "      <td>299.335714</td>\n",
              "      <td>299.485714</td>\n",
              "      <td>295.491429</td>\n",
              "      <td>301.800000</td>\n",
              "      <td>297.500000</td>\n",
              "      <td>19.630000</td>\n",
              "      <td>77.060000</td>\n",
              "      <td>20.920000</td>\n",
              "      <td>16.907143</td>\n",
              "      <td>2.671429</td>\n",
              "      <td>27.042857</td>\n",
              "      <td>6.371429</td>\n",
              "      <td>31.700000</td>\n",
              "      <td>22.800000</td>\n",
              "      <td>21.300000</td>\n",
              "    </tr>\n",
              "    <tr>\n",
              "      <th>75%</th>\n",
              "      <td>4.000000</td>\n",
              "      <td>38.000000</td>\n",
              "      <td>0.051400</td>\n",
              "      <td>0.051625</td>\n",
              "      <td>0.206086</td>\n",
              "      <td>0.192557</td>\n",
              "      <td>59.150000</td>\n",
              "      <td>300.790000</td>\n",
              "      <td>300.878571</td>\n",
              "      <td>296.584286</td>\n",
              "      <td>302.900000</td>\n",
              "      <td>298.800000</td>\n",
              "      <td>31.900000</td>\n",
              "      <td>79.181429</td>\n",
              "      <td>59.150000</td>\n",
              "      <td>18.035714</td>\n",
              "      <td>3.028571</td>\n",
              "      <td>28.342857</td>\n",
              "      <td>7.057143</td>\n",
              "      <td>32.800000</td>\n",
              "      <td>23.900000</td>\n",
              "      <td>40.900000</td>\n",
              "    </tr>\n",
              "    <tr>\n",
              "      <th>max</th>\n",
              "      <td>5.000000</td>\n",
              "      <td>53.000000</td>\n",
              "      <td>0.493400</td>\n",
              "      <td>0.246675</td>\n",
              "      <td>0.354343</td>\n",
              "      <td>0.310257</td>\n",
              "      <td>245.730000</td>\n",
              "      <td>302.200000</td>\n",
              "      <td>302.164286</td>\n",
              "      <td>297.795714</td>\n",
              "      <td>304.300000</td>\n",
              "      <td>299.900000</td>\n",
              "      <td>254.950000</td>\n",
              "      <td>85.330000</td>\n",
              "      <td>245.730000</td>\n",
              "      <td>19.440000</td>\n",
              "      <td>4.428571</td>\n",
              "      <td>30.028571</td>\n",
              "      <td>8.671429</td>\n",
              "      <td>35.000000</td>\n",
              "      <td>25.600000</td>\n",
              "      <td>207.500000</td>\n",
              "    </tr>\n",
              "  </tbody>\n",
              "</table>\n",
              "</div>"
            ],
            "text/plain": [
              "             year  weekofyear  ...  station_min_temp_c  station_precip_mm\n",
              "count  225.000000  225.000000  ...          225.000000         225.000000\n",
              "mean     2.688889   25.182222  ...           22.589778          31.105333\n",
              "std      1.264597   15.254907  ...            1.602964          33.604244\n",
              "min      1.000000    1.000000  ...           17.800000           0.000000\n",
              "25%      2.000000   12.000000  ...           21.100000           7.700000\n",
              "50%      3.000000   24.000000  ...           22.800000          21.300000\n",
              "75%      4.000000   38.000000  ...           23.900000          40.900000\n",
              "max      5.000000   53.000000  ...           25.600000         207.500000\n",
              "\n",
              "[8 rows x 22 columns]"
            ]
          },
          "metadata": {
            "tags": []
          },
          "execution_count": 109
        }
      ]
    },
    {
      "cell_type": "code",
      "metadata": {
        "id": "JZV38OJfZdVQ"
      },
      "source": [
        "scaler = preprocessing.MinMaxScaler()\n",
        "norm_data = scaler.fit_transform(filter_data)"
      ],
      "execution_count": null,
      "outputs": []
    },
    {
      "cell_type": "markdown",
      "metadata": {
        "id": "f1WqoyHXqIKd"
      },
      "source": [
        "After doing all the preprocessing of the data, we have the dataset which we are going to use ready for studying it. We have the data normalized ``norm_data`` and the data not normalized ``filter_data`` if we also need it."
      ]
    },
    {
      "cell_type": "markdown",
      "metadata": {
        "id": "hEbiaSPxMWfJ"
      },
      "source": [
        "## Dimensionality reduction\n",
        "\n"
      ]
    },
    {
      "cell_type": "markdown",
      "metadata": {
        "id": "qACsGEJrV_zF"
      },
      "source": [
        "### Correlation\n",
        "First we are going to compare all our features to extract if there is some correlation among them. For this method we use the not normalized data."
      ]
    },
    {
      "cell_type": "code",
      "metadata": {
        "id": "huX-fsdPdeH7",
        "outputId": "d914699b-c5f1-47f5-b4ea-3d75c38f6b57",
        "colab": {
          "base_uri": "https://localhost:8080/",
          "height": 469
        }
      },
      "source": [
        "mtx_corr = filter_data.corr()\n",
        "sns.heatmap(mtx_corr, xticklabels=mtx_corr.columns, yticklabels=mtx_corr.columns, annot=False)"
      ],
      "execution_count": null,
      "outputs": [
        {
          "output_type": "execute_result",
          "data": {
            "text/plain": [
              "<matplotlib.axes._subplots.AxesSubplot at 0x7f1d9771e0f0>"
            ]
          },
          "metadata": {
            "tags": []
          },
          "execution_count": 111
        },
        {
          "output_type": "display_data",
          "data": {
            "image/png": "[encoded data removed]",
            "text/plain": [
              "<Figure size 432x288 with 2 Axes>"
            ]
          },
          "metadata": {
            "tags": [],
            "needs_background": "light"
          }
        }
      ]
    },
    {
      "cell_type": "code",
      "metadata": {
        "id": "zbXnv64xphPD",
        "outputId": "2ebcfa03-e2c9-4a20-f19c-44e435c38495",
        "colab": {
          "base_uri": "https://localhost:8080/",
          "height": 102
        }
      },
      "source": [
        "repeated_pair=[]\n",
        "for row in mtx_corr:\n",
        "  i=0\n",
        "  for feature in mtx_corr[row]:\n",
        "    if (row != mtx_corr.columns[i]) & (feature >=0.95) & ([row, mtx_corr.columns[i]] not in repeated_pair):\n",
        "      print('First variable: {var1}, Second variable: {var2}, Value: {val}'.format(var1=row, var2=mtx_corr.columns[i], val=feature))\n",
        "      repeated_pair.append([mtx_corr.columns[i],row])\n",
        "    i+=1\n",
        "\n"
      ],
      "execution_count": null,
      "outputs": [
        {
          "output_type": "stream",
          "text": [
            "First variable: precipitation_amt_mm, Second variable: reanalysis_sat_precip_amt_mm, Value: 1.0\n",
            "First variable: reanalysis_air_temp_k, Second variable: reanalysis_avg_temp_k, Value: 0.997679098612847\n",
            "First variable: reanalysis_air_temp_k, Second variable: reanalysis_min_air_temp_k, Value: 0.9530881462741971\n",
            "First variable: reanalysis_avg_temp_k, Second variable: reanalysis_min_air_temp_k, Value: 0.9513672725698957\n",
            "First variable: reanalysis_dew_point_temp_k, Second variable: reanalysis_specific_humidity_g_per_kg, Value: 0.9989079658867076\n"
          ],
          "name": "stdout"
        }
      ]
    },
    {
      "cell_type": "markdown",
      "metadata": {
        "id": "8II7vpggYVBJ"
      },
      "source": [
        "We could see that there a bunch of features that have a strong correlation between them (we decided that a strong correlation would be a Pearson correlation coefficient more than 0.95). This pairs of features are the next ones:\n",
        "\n",
        "\n",
        "*   ``precipitation_atm_mm`` and ``reanalysis_sat_precip_amt_mm`` with a correlation coefficient of 1.00\n",
        "*   ``reanalysis_air_temp_k`` and ``reanalysis_avg_temp_k`` with a correlation coefficient of 0.9977\n",
        "*   ``reanalysis_air_temp_k`` and ``reanalysis_min_air_temp_k`` with a correlation coefficient of 0.9530\n",
        "*   ``reanalysis_avg_temp_k`` and ``reanalysis_min_air_temp_k`` with a correlation coefficient of 0.9514\n",
        "*   ``reanalysis_dew_point_temp_k`` and ``reanalysis_specific_humidity_g_per_kg`` with a correlation coefficient of 0.9989\n",
        "\n"
      ]
    },
    {
      "cell_type": "markdown",
      "metadata": {
        "id": "ljNkOrsRXMEY"
      },
      "source": [
        "With a basic knowledge of the domain, we understand why that pairs of variables are strongly relationated.\n",
        "* The first pair of variables are the total precipation each of them.\n",
        "* The second pair represent the average air temperature and the mean air temperature, which it is the same.\n",
        "* The third pair is also relationated but it hasn't the same meaning. One is the mean and the other is the minimum. Although, it has a very strong relation this three variables.\n",
        "* The fourth pair is the same as the one before.\n",
        "* At the fifth pair, we have investigated that the dew point temperature is influenced by the humidity. The dew point is the temperature the air needs to be cooled to (at constant pressure) in order to achieve a relative humidity (RH) of 100%.\n",
        "\n",
        "![Dew-point-Temperature-for-22C-18C-and-16C-air-with-varying-humidity-Source-derived.png](https://www.researchgate.net/profile/Ken_Ruest/publication/44077697/figure/fig9/AS:668479581610007@1536389360856/Dew-point-Temperature-for-22C-18C-and-16C-air-with-varying-humidity-Source-derived.png)\n",
        "\n",
        "---\n",
        "\n",
        "We conclude that we could eliminate some features that are so redundant and not important. This features are ``reanalysis_sat_precip_amt_mm``, ``reanalysis_avg_temp_k`` and ``reanalysis_dew_point_temp_k``.\n",
        "\n",
        "We eliminate this features from the normalized dataframe and we repeat the normalization of it."
      ]
    },
    {
      "cell_type": "code",
      "metadata": {
        "id": "LuZqTlI0yGUh",
        "outputId": "957d977e-2a36-41b3-ce01-2a5564b14c05",
        "colab": {
          "base_uri": "https://localhost:8080/",
          "height": 224
        }
      },
      "source": [
        "filter_data = filter_data.drop(['reanalysis_sat_precip_amt_mm', 'reanalysis_avg_temp_k', 'reanalysis_dew_point_temp_k'], axis=1)\n",
        "filter_data.head()"
      ],
      "execution_count": null,
      "outputs": [
        {
          "output_type": "execute_result",
          "data": {
            "text/html": [
              "<div>\n",
              "<style scoped>\n",
              "    .dataframe tbody tr th:only-of-type {\n",
              "        vertical-align: middle;\n",
              "    }\n",
              "\n",
              "    .dataframe tbody tr th {\n",
              "        vertical-align: top;\n",
              "    }\n",
              "\n",
              "    .dataframe thead th {\n",
              "        text-align: right;\n",
              "    }\n",
              "</style>\n",
              "<table border=\"1\" class=\"dataframe\">\n",
              "  <thead>\n",
              "    <tr style=\"text-align: right;\">\n",
              "      <th></th>\n",
              "      <th>year</th>\n",
              "      <th>weekofyear</th>\n",
              "      <th>ndvi_ne</th>\n",
              "      <th>ndvi_nw</th>\n",
              "      <th>ndvi_se</th>\n",
              "      <th>ndvi_sw</th>\n",
              "      <th>precipitation_amt_mm</th>\n",
              "      <th>reanalysis_air_temp_k</th>\n",
              "      <th>reanalysis_max_air_temp_k</th>\n",
              "      <th>reanalysis_min_air_temp_k</th>\n",
              "      <th>reanalysis_precip_amt_kg_per_m2</th>\n",
              "      <th>reanalysis_relative_humidity_percent</th>\n",
              "      <th>reanalysis_specific_humidity_g_per_kg</th>\n",
              "      <th>reanalysis_tdtr_k</th>\n",
              "      <th>station_avg_temp_c</th>\n",
              "      <th>station_diur_temp_rng_c</th>\n",
              "      <th>station_max_temp_c</th>\n",
              "      <th>station_min_temp_c</th>\n",
              "      <th>station_precip_mm</th>\n",
              "    </tr>\n",
              "  </thead>\n",
              "  <tbody>\n",
              "    <tr>\n",
              "      <th>711</th>\n",
              "      <td>1</td>\n",
              "      <td>1</td>\n",
              "      <td>-0.26830</td>\n",
              "      <td>-0.123700</td>\n",
              "      <td>0.223757</td>\n",
              "      <td>0.176543</td>\n",
              "      <td>0.00</td>\n",
              "      <td>297.648571</td>\n",
              "      <td>299.3</td>\n",
              "      <td>296.1</td>\n",
              "      <td>20.7</td>\n",
              "      <td>72.577143</td>\n",
              "      <td>13.881429</td>\n",
              "      <td>2.028571</td>\n",
              "      <td>24.385714</td>\n",
              "      <td>5.557143</td>\n",
              "      <td>27.8</td>\n",
              "      <td>20.6</td>\n",
              "      <td>15.6</td>\n",
              "    </tr>\n",
              "    <tr>\n",
              "      <th>712</th>\n",
              "      <td>1</td>\n",
              "      <td>2</td>\n",
              "      <td>-0.07310</td>\n",
              "      <td>0.017200</td>\n",
              "      <td>0.214729</td>\n",
              "      <td>0.222443</td>\n",
              "      <td>0.00</td>\n",
              "      <td>297.648571</td>\n",
              "      <td>299.3</td>\n",
              "      <td>296.1</td>\n",
              "      <td>20.7</td>\n",
              "      <td>72.577143</td>\n",
              "      <td>13.881429</td>\n",
              "      <td>2.028571</td>\n",
              "      <td>24.385714</td>\n",
              "      <td>5.557143</td>\n",
              "      <td>27.8</td>\n",
              "      <td>20.6</td>\n",
              "      <td>15.6</td>\n",
              "    </tr>\n",
              "    <tr>\n",
              "      <th>713</th>\n",
              "      <td>1</td>\n",
              "      <td>3</td>\n",
              "      <td>-0.18635</td>\n",
              "      <td>0.002600</td>\n",
              "      <td>0.282100</td>\n",
              "      <td>0.289900</td>\n",
              "      <td>36.07</td>\n",
              "      <td>297.800000</td>\n",
              "      <td>299.5</td>\n",
              "      <td>296.5</td>\n",
              "      <td>20.2</td>\n",
              "      <td>78.942857</td>\n",
              "      <td>15.257143</td>\n",
              "      <td>2.171429</td>\n",
              "      <td>24.342857</td>\n",
              "      <td>5.957143</td>\n",
              "      <td>28.3</td>\n",
              "      <td>20.0</td>\n",
              "      <td>23.7</td>\n",
              "    </tr>\n",
              "    <tr>\n",
              "      <th>714</th>\n",
              "      <td>1</td>\n",
              "      <td>4</td>\n",
              "      <td>-0.18635</td>\n",
              "      <td>-0.178625</td>\n",
              "      <td>-0.015533</td>\n",
              "      <td>0.010250</td>\n",
              "      <td>0.00</td>\n",
              "      <td>297.728571</td>\n",
              "      <td>300.2</td>\n",
              "      <td>295.7</td>\n",
              "      <td>1.1</td>\n",
              "      <td>78.264286</td>\n",
              "      <td>15.061429</td>\n",
              "      <td>3.042857</td>\n",
              "      <td>24.528571</td>\n",
              "      <td>6.100000</td>\n",
              "      <td>27.8</td>\n",
              "      <td>20.6</td>\n",
              "      <td>10.2</td>\n",
              "    </tr>\n",
              "    <tr>\n",
              "      <th>715</th>\n",
              "      <td>1</td>\n",
              "      <td>5</td>\n",
              "      <td>-0.05350</td>\n",
              "      <td>-0.108000</td>\n",
              "      <td>0.236257</td>\n",
              "      <td>0.280414</td>\n",
              "      <td>0.00</td>\n",
              "      <td>297.560000</td>\n",
              "      <td>300.0</td>\n",
              "      <td>295.8</td>\n",
              "      <td>2.0</td>\n",
              "      <td>75.422857</td>\n",
              "      <td>14.390000</td>\n",
              "      <td>2.457143</td>\n",
              "      <td>24.628571</td>\n",
              "      <td>6.200000</td>\n",
              "      <td>28.9</td>\n",
              "      <td>20.0</td>\n",
              "      <td>1.8</td>\n",
              "    </tr>\n",
              "  </tbody>\n",
              "</table>\n",
              "</div>"
            ],
            "text/plain": [
              "     year  weekofyear  ...  station_min_temp_c  station_precip_mm\n",
              "711     1           1  ...                20.6               15.6\n",
              "712     1           2  ...                20.6               15.6\n",
              "713     1           3  ...                20.0               23.7\n",
              "714     1           4  ...                20.6               10.2\n",
              "715     1           5  ...                20.0                1.8\n",
              "\n",
              "[5 rows x 19 columns]"
            ]
          },
          "metadata": {
            "tags": []
          },
          "execution_count": 113
        }
      ]
    },
    {
      "cell_type": "code",
      "metadata": {
        "id": "i71knOkjxu5U",
        "outputId": "f232900a-4401-4a47-879c-9efa1557d366",
        "colab": {
          "base_uri": "https://localhost:8080/",
          "height": 238
        }
      },
      "source": [
        "norm_data = scaler.fit_transform(filter_data)\n",
        "norm_data"
      ],
      "execution_count": null,
      "outputs": [
        {
          "output_type": "execute_result",
          "data": {
            "text/plain": [
              "array([[0.        , 0.        , 0.15333741, ..., 0.13253012, 0.35897436,\n",
              "        0.07518072],\n",
              "       [0.        , 0.01923077, 0.37031068, ..., 0.13253012, 0.35897436,\n",
              "        0.07518072],\n",
              "       [0.        , 0.03846154, 0.24442839, ..., 0.19277108, 0.28205128,\n",
              "        0.11421687],\n",
              "       ...,\n",
              "       [1.        , 0.26923077, 0.27905297, ..., 0.3253012 , 0.5       ,\n",
              "        0.14795181],\n",
              "       [1.        , 0.28846154, 0.45356528, ..., 0.3253012 , 0.5       ,\n",
              "        0.0539759 ],\n",
              "       [1.        , 0.30769231, 0.41043739, ..., 0.60240964, 0.70512821,\n",
              "        0.00144578]])"
            ]
          },
          "metadata": {
            "tags": []
          },
          "execution_count": 114
        }
      ]
    },
    {
      "cell_type": "markdown",
      "metadata": {
        "id": "QJ2OsPhm0kzq"
      },
      "source": [
        "### Principal Component Analysis\n"
      ]
    },
    {
      "cell_type": "markdown",
      "metadata": {
        "id": "f63oQlLXCik9"
      },
      "source": [
        "The technique of **Principal Component Analysis** consists of a dimension reduction that projects on *k* dimensions less than the ones we have, by maximizing the variance and with the lost of information.\n",
        "\n",
        "---\n",
        "We pass as argument to the PCA algorithm the normalized dataset."
      ]
    },
    {
      "cell_type": "code",
      "metadata": {
        "id": "i0Um_cmpy3BE",
        "outputId": "ae2c994f-ff93-4493-ab5d-60fb86c54328",
        "colab": {
          "base_uri": "https://localhost:8080/",
          "height": 34
        }
      },
      "source": [
        "from sklearn.decomposition import PCA\n",
        "\n",
        "pca = PCA()\n",
        "pca_estimation = pca.fit_transform(norm_data)\n",
        "pca_estimation.shape"
      ],
      "execution_count": null,
      "outputs": [
        {
          "output_type": "execute_result",
          "data": {
            "text/plain": [
              "(225, 19)"
            ]
          },
          "metadata": {
            "tags": []
          },
          "execution_count": 115
        }
      ]
    },
    {
      "cell_type": "markdown",
      "metadata": {
        "id": "F6mO7SMz0-gd"
      },
      "source": [
        "Plotting the cumulative variance of each PCA component , we could decide how many components "
      ]
    },
    {
      "cell_type": "code",
      "metadata": {
        "id": "-P7pbWsk145S",
        "outputId": "d1bad151-8879-48e0-97e9-6bdfb5df1de0",
        "colab": {
          "base_uri": "https://localhost:8080/",
          "height": 542
        }
      },
      "source": [
        "exp_var_cumul = np.cumsum(pca.explained_variance_ratio_)\n",
        "\n",
        "px.area(\n",
        "    x=range(1, exp_var_cumul.shape[0] + 1),\n",
        "    y=exp_var_cumul,\n",
        "    labels={\"x\": \"# Components\", \"y\": \"Explained Variance\"}\n",
        ")"
      ],
      "execution_count": null,
      "outputs": [
        {
          "output_type": "display_data",
          "data": {
            "text/html": [
              "<html>\n",
              "<head><meta charset=\"utf-8\" /></head>\n",
              "<body>\n",
              "    <div>\n",
              "            <script src=\"https://cdnjs.cloudflare.com/ajax/libs/mathjax/2.7.5/MathJax.js?config=TeX-AMS-MML_SVG\"></script><script type=\"text/javascript\">if (window.MathJax) {MathJax.Hub.Config({SVG: {font: \"STIX-Web\"}});}</script>\n",
              "                <script type=\"text/javascript\">window.PlotlyConfig = {MathJaxConfig: 'local'};</script>\n",
              "        <script src=\"https://cdn.plot.ly/plotly-latest.min.js\"></script>    \n",
              "            <div id=\"d4c6b09a-4efc-4988-a578-5ca4feb54293\" class=\"plotly-graph-div\" style=\"height:525px; width:100%;\"></div>\n",
              "            <script type=\"text/javascript\">\n",
              "                \n",
              "                    window.PLOTLYENV=window.PLOTLYENV || {};\n",
              "                    \n",
              "                if (document.getElementById(\"d4c6b09a-4efc-4988-a578-5ca4feb54293\")) {\n",
              "                    Plotly.newPlot(\n",
              "                        'd4c6b09a-4efc-4988-a578-5ca4feb54293',\n",
              "                        [{\"hoverlabel\": {\"namelength\": 0}, \"hovertemplate\": \"# Components=%{x}<br>Explained Variance=%{y}\", \"legendgroup\": \"\", \"line\": {\"color\": \"#636efa\"}, \"mode\": \"lines\", \"name\": \"\", \"orientation\": \"v\", \"showlegend\": false, \"stackgroup\": \"1\", \"type\": \"scatter\", \"x\": [1, 2, 3, 4, 5, 6, 7, 8, 9, 10, 11, 12, 13, 14, 15, 16, 17, 18, 19], \"xaxis\": \"x\", \"y\": [0.45802315435377405, 0.6043128008990615, 0.7030714234604516, 0.7876377312548655, 0.8428083051559009, 0.8876738587642192, 0.9109408230225956, 0.9305957111761032, 0.947382347688374, 0.9605062481703532, 0.9712046043012337, 0.9800100102962599, 0.986122483005937, 0.9912689162861945, 0.9956400702464999, 0.9976164285997856, 0.9991238031522972, 0.9999399113382071, 1.0000000000000002], \"yaxis\": \"y\"}],\n",
              "                        {\"legend\": {\"tracegroupgap\": 0}, \"margin\": {\"t\": 60}, \"template\": {\"data\": {\"bar\": [{\"error_x\": {\"color\": \"#2a3f5f\"}, \"error_y\": {\"color\": \"#2a3f5f\"}, \"marker\": {\"line\": {\"color\": \"#E5ECF6\", \"width\": 0.5}}, \"type\": \"bar\"}], \"barpolar\": [{\"marker\": {\"line\": {\"color\": \"#E5ECF6\", \"width\": 0.5}}, \"type\": \"barpolar\"}], \"carpet\": [{\"aaxis\": {\"endlinecolor\": \"#2a3f5f\", \"gridcolor\": \"white\", \"linecolor\": \"white\", \"minorgridcolor\": \"white\", \"startlinecolor\": \"#2a3f5f\"}, \"baxis\": {\"endlinecolor\": \"#2a3f5f\", \"gridcolor\": \"white\", \"linecolor\": \"white\", \"minorgridcolor\": \"white\", \"startlinecolor\": \"#2a3f5f\"}, \"type\": \"carpet\"}], \"choropleth\": [{\"colorbar\": {\"outlinewidth\": 0, \"ticks\": \"\"}, \"type\": \"choropleth\"}], \"contour\": [{\"colorbar\": {\"outlinewidth\": 0, \"ticks\": \"\"}, \"colorscale\": [[0.0, \"#0d0887\"], [0.1111111111111111, \"#46039f\"], [0.2222222222222222, \"#7201a8\"], [0.3333333333333333, \"#9c179e\"], [0.4444444444444444, \"#bd3786\"], [0.5555555555555556, \"#d8576b\"], [0.6666666666666666, \"#ed7953\"], [0.7777777777777778, \"#fb9f3a\"], [0.8888888888888888, \"#fdca26\"], [1.0, \"#f0f921\"]], \"type\": \"contour\"}], \"contourcarpet\": [{\"colorbar\": {\"outlinewidth\": 0, \"ticks\": \"\"}, \"type\": \"contourcarpet\"}], \"heatmap\": [{\"colorbar\": {\"outlinewidth\": 0, \"ticks\": \"\"}, \"colorscale\": [[0.0, \"#0d0887\"], [0.1111111111111111, \"#46039f\"], [0.2222222222222222, \"#7201a8\"], [0.3333333333333333, \"#9c179e\"], [0.4444444444444444, \"#bd3786\"], [0.5555555555555556, \"#d8576b\"], [0.6666666666666666, \"#ed7953\"], [0.7777777777777778, \"#fb9f3a\"], [0.8888888888888888, \"#fdca26\"], [1.0, \"#f0f921\"]], \"type\": \"heatmap\"}], \"heatmapgl\": [{\"colorbar\": {\"outlinewidth\": 0, \"ticks\": \"\"}, \"colorscale\": [[0.0, \"#0d0887\"], [0.1111111111111111, \"#46039f\"], [0.2222222222222222, \"#7201a8\"], [0.3333333333333333, \"#9c179e\"], [0.4444444444444444, \"#bd3786\"], [0.5555555555555556, \"#d8576b\"], [0.6666666666666666, \"#ed7953\"], [0.7777777777777778, \"#fb9f3a\"], [0.8888888888888888, \"#fdca26\"], [1.0, \"#f0f921\"]], \"type\": \"heatmapgl\"}], \"histogram\": [{\"marker\": {\"colorbar\": {\"outlinewidth\": 0, \"ticks\": \"\"}}, \"type\": \"histogram\"}], \"histogram2d\": [{\"colorbar\": {\"outlinewidth\": 0, \"ticks\": \"\"}, \"colorscale\": [[0.0, \"#0d0887\"], [0.1111111111111111, \"#46039f\"], [0.2222222222222222, \"#7201a8\"], [0.3333333333333333, \"#9c179e\"], [0.4444444444444444, \"#bd3786\"], [0.5555555555555556, \"#d8576b\"], [0.6666666666666666, \"#ed7953\"], [0.7777777777777778, \"#fb9f3a\"], [0.8888888888888888, \"#fdca26\"], [1.0, \"#f0f921\"]], \"type\": \"histogram2d\"}], \"histogram2dcontour\": [{\"colorbar\": {\"outlinewidth\": 0, \"ticks\": \"\"}, \"colorscale\": [[0.0, \"#0d0887\"], [0.1111111111111111, \"#46039f\"], [0.2222222222222222, \"#7201a8\"], [0.3333333333333333, \"#9c179e\"], [0.4444444444444444, \"#bd3786\"], [0.5555555555555556, \"#d8576b\"], [0.6666666666666666, \"#ed7953\"], [0.7777777777777778, \"#fb9f3a\"], [0.8888888888888888, \"#fdca26\"], [1.0, \"#f0f921\"]], \"type\": \"histogram2dcontour\"}], \"mesh3d\": [{\"colorbar\": {\"outlinewidth\": 0, \"ticks\": \"\"}, \"type\": \"mesh3d\"}], \"parcoords\": [{\"line\": {\"colorbar\": {\"outlinewidth\": 0, \"ticks\": \"\"}}, \"type\": \"parcoords\"}], \"pie\": [{\"automargin\": true, \"type\": \"pie\"}], \"scatter\": [{\"marker\": {\"colorbar\": {\"outlinewidth\": 0, \"ticks\": \"\"}}, \"type\": \"scatter\"}], \"scatter3d\": [{\"line\": {\"colorbar\": {\"outlinewidth\": 0, \"ticks\": \"\"}}, \"marker\": {\"colorbar\": {\"outlinewidth\": 0, \"ticks\": \"\"}}, \"type\": \"scatter3d\"}], \"scattercarpet\": [{\"marker\": {\"colorbar\": {\"outlinewidth\": 0, \"ticks\": \"\"}}, \"type\": \"scattercarpet\"}], \"scattergeo\": [{\"marker\": {\"colorbar\": {\"outlinewidth\": 0, \"ticks\": \"\"}}, \"type\": \"scattergeo\"}], \"scattergl\": [{\"marker\": {\"colorbar\": {\"outlinewidth\": 0, \"ticks\": \"\"}}, \"type\": \"scattergl\"}], \"scattermapbox\": [{\"marker\": {\"colorbar\": {\"outlinewidth\": 0, \"ticks\": \"\"}}, \"type\": \"scattermapbox\"}], \"scatterpolar\": [{\"marker\": {\"colorbar\": {\"outlinewidth\": 0, \"ticks\": \"\"}}, \"type\": \"scatterpolar\"}], \"scatterpolargl\": [{\"marker\": {\"colorbar\": {\"outlinewidth\": 0, \"ticks\": \"\"}}, \"type\": \"scatterpolargl\"}], \"scatterternary\": [{\"marker\": {\"colorbar\": {\"outlinewidth\": 0, \"ticks\": \"\"}}, \"type\": \"scatterternary\"}], \"surface\": [{\"colorbar\": {\"outlinewidth\": 0, \"ticks\": \"\"}, \"colorscale\": [[0.0, \"#0d0887\"], [0.1111111111111111, \"#46039f\"], [0.2222222222222222, \"#7201a8\"], [0.3333333333333333, \"#9c179e\"], [0.4444444444444444, \"#bd3786\"], [0.5555555555555556, \"#d8576b\"], [0.6666666666666666, \"#ed7953\"], [0.7777777777777778, \"#fb9f3a\"], [0.8888888888888888, \"#fdca26\"], [1.0, \"#f0f921\"]], \"type\": \"surface\"}], \"table\": [{\"cells\": {\"fill\": {\"color\": \"#EBF0F8\"}, \"line\": {\"color\": \"white\"}}, \"header\": {\"fill\": {\"color\": \"#C8D4E3\"}, \"line\": {\"color\": \"white\"}}, \"type\": \"table\"}]}, \"layout\": {\"annotationdefaults\": {\"arrowcolor\": \"#2a3f5f\", \"arrowhead\": 0, \"arrowwidth\": 1}, \"coloraxis\": {\"colorbar\": {\"outlinewidth\": 0, \"ticks\": \"\"}}, \"colorscale\": {\"diverging\": [[0, \"#8e0152\"], [0.1, \"#c51b7d\"], [0.2, \"#de77ae\"], [0.3, \"#f1b6da\"], [0.4, \"#fde0ef\"], [0.5, \"#f7f7f7\"], [0.6, \"#e6f5d0\"], [0.7, \"#b8e186\"], [0.8, \"#7fbc41\"], [0.9, \"#4d9221\"], [1, \"#276419\"]], \"sequential\": [[0.0, \"#0d0887\"], [0.1111111111111111, \"#46039f\"], [0.2222222222222222, \"#7201a8\"], [0.3333333333333333, \"#9c179e\"], [0.4444444444444444, \"#bd3786\"], [0.5555555555555556, \"#d8576b\"], [0.6666666666666666, \"#ed7953\"], [0.7777777777777778, \"#fb9f3a\"], [0.8888888888888888, \"#fdca26\"], [1.0, \"#f0f921\"]], \"sequentialminus\": [[0.0, \"#0d0887\"], [0.1111111111111111, \"#46039f\"], [0.2222222222222222, \"#7201a8\"], [0.3333333333333333, \"#9c179e\"], [0.4444444444444444, \"#bd3786\"], [0.5555555555555556, \"#d8576b\"], [0.6666666666666666, \"#ed7953\"], [0.7777777777777778, \"#fb9f3a\"], [0.8888888888888888, \"#fdca26\"], [1.0, \"#f0f921\"]]}, \"colorway\": [\"#636efa\", \"#EF553B\", \"#00cc96\", \"#ab63fa\", \"#FFA15A\", \"#19d3f3\", \"#FF6692\", \"#B6E880\", \"#FF97FF\", \"#FECB52\"], \"font\": {\"color\": \"#2a3f5f\"}, \"geo\": {\"bgcolor\": \"white\", \"lakecolor\": \"white\", \"landcolor\": \"#E5ECF6\", \"showlakes\": true, \"showland\": true, \"subunitcolor\": \"white\"}, \"hoverlabel\": {\"align\": \"left\"}, \"hovermode\": \"closest\", \"mapbox\": {\"style\": \"light\"}, \"paper_bgcolor\": \"white\", \"plot_bgcolor\": \"#E5ECF6\", \"polar\": {\"angularaxis\": {\"gridcolor\": \"white\", \"linecolor\": \"white\", \"ticks\": \"\"}, \"bgcolor\": \"#E5ECF6\", \"radialaxis\": {\"gridcolor\": \"white\", \"linecolor\": \"white\", \"ticks\": \"\"}}, \"scene\": {\"xaxis\": {\"backgroundcolor\": \"#E5ECF6\", \"gridcolor\": \"white\", \"gridwidth\": 2, \"linecolor\": \"white\", \"showbackground\": true, \"ticks\": \"\", \"zerolinecolor\": \"white\"}, \"yaxis\": {\"backgroundcolor\": \"#E5ECF6\", \"gridcolor\": \"white\", \"gridwidth\": 2, \"linecolor\": \"white\", \"showbackground\": true, \"ticks\": \"\", \"zerolinecolor\": \"white\"}, \"zaxis\": {\"backgroundcolor\": \"#E5ECF6\", \"gridcolor\": \"white\", \"gridwidth\": 2, \"linecolor\": \"white\", \"showbackground\": true, \"ticks\": \"\", \"zerolinecolor\": \"white\"}}, \"shapedefaults\": {\"line\": {\"color\": \"#2a3f5f\"}}, \"ternary\": {\"aaxis\": {\"gridcolor\": \"white\", \"linecolor\": \"white\", \"ticks\": \"\"}, \"baxis\": {\"gridcolor\": \"white\", \"linecolor\": \"white\", \"ticks\": \"\"}, \"bgcolor\": \"#E5ECF6\", \"caxis\": {\"gridcolor\": \"white\", \"linecolor\": \"white\", \"ticks\": \"\"}}, \"title\": {\"x\": 0.05}, \"xaxis\": {\"automargin\": true, \"gridcolor\": \"white\", \"linecolor\": \"white\", \"ticks\": \"\", \"title\": {\"standoff\": 15}, \"zerolinecolor\": \"white\", \"zerolinewidth\": 2}, \"yaxis\": {\"automargin\": true, \"gridcolor\": \"white\", \"linecolor\": \"white\", \"ticks\": \"\", \"title\": {\"standoff\": 15}, \"zerolinecolor\": \"white\", \"zerolinewidth\": 2}}}, \"xaxis\": {\"anchor\": \"y\", \"domain\": [0.0, 1.0], \"title\": {\"text\": \"# Components\"}}, \"yaxis\": {\"anchor\": \"x\", \"domain\": [0.0, 1.0], \"title\": {\"text\": \"Explained Variance\"}}},\n",
              "                        {\"responsive\": true}\n",
              "                    ).then(function(){\n",
              "                            \n",
              "var gd = document.getElementById('d4c6b09a-4efc-4988-a578-5ca4feb54293');\n",
              "var x = new MutationObserver(function (mutations, observer) {{\n",
              "        var display = window.getComputedStyle(gd).display;\n",
              "        if (!display || display === 'none') {{\n",
              "            console.log([gd, 'removed!']);\n",
              "            Plotly.purge(gd);\n",
              "            observer.disconnect();\n",
              "        }}\n",
              "}});\n",
              "\n",
              "// Listen for the removal of the full notebook cells\n",
              "var notebookContainer = gd.closest('#notebook-container');\n",
              "if (notebookContainer) {{\n",
              "    x.observe(notebookContainer, {childList: true});\n",
              "}}\n",
              "\n",
              "// Listen for the clearing of the current output cell\n",
              "var outputEl = gd.closest('.output');\n",
              "if (outputEl) {{\n",
              "    x.observe(outputEl, {childList: true});\n",
              "}}\n",
              "\n",
              "                        })\n",
              "                };\n",
              "                \n",
              "            </script>\n",
              "        </div>\n",
              "</body>\n",
              "</html>"
            ]
          },
          "metadata": {
            "tags": []
          }
        }
      ]
    },
    {
      "cell_type": "markdown",
      "metadata": {
        "id": "-gI0SsRokQ-f"
      },
      "source": [
        "We observe that the cumulative variance for having only two components is **not enough** and it is the same with more components, until it reaches the **even components**. The explained variance for seven components is **0.91**.\n",
        "\n",
        "For this reason, we are going to **reduce the dimensionality** by *7 components*. This decision has advantages and disadvantages:\n",
        "\n",
        "*   **Advantages:** the cumulative variance of having seven components allows us not having problem with lost of information and, by the way, obtaining better results.\n",
        "*   **Disadvantages:** with six components, we have six variables which can't be represented graphically through a 2-dimensional or a 3-dimensional space.\n",
        "\n",
        "To resolve this problem we are going to have two matrices, a 6-dimensional matrix ``studied_pca`` (and the most important) would be used for the operations needed for resolve our problem, and the last one would be a 3-variable matrix ``plot3d_pca``. This is due to the need of represent our data and this would be the best because 3D is good for a quick lookup and it doesn't lose as much information as a 2D representation.\n",
        "\n"
      ]
    },
    {
      "cell_type": "code",
      "metadata": {
        "id": "pPqSZdeE1G8D"
      },
      "source": [
        "studied_pca = PCA (n_components = 7 ).fit_transform(norm_data)\n",
        "plot3d_pca = PCA (n_components = 3 ).fit_transform(norm_data)"
      ],
      "execution_count": null,
      "outputs": []
    },
    {
      "cell_type": "markdown",
      "metadata": {
        "id": "YAFkWWoy3nMe"
      },
      "source": [
        "After that, we are going to plot our dataset represented in a 3-dimensional space."
      ]
    },
    {
      "cell_type": "code",
      "metadata": {
        "id": "RfId7mhC32EG",
        "outputId": "4b7c435a-29d3-461e-e64e-e7f456578068",
        "colab": {
          "base_uri": "https://localhost:8080/",
          "height": 542
        }
      },
      "source": [
        "total_var = pca.explained_variance_ratio_.sum() * 100\n",
        "\n",
        "fig = px.scatter_3d(plot_pca, x = 0, y = 1, z = 2, size=filter_data['year'],\n",
        "                    opacity=0.8, labels={'0': 'PC 1', '1': 'PC 2', '2': 'PC 3', 'size': 'year', 'color': 'year', 'text': 'week_id'},\n",
        "                    title=f'Total Explained Variance: {total_var:.2f}%',\n",
        "                    text=filter_data.index, color=filter_data['year'])\n",
        "fig.show()"
      ],
      "execution_count": null,
      "outputs": [
        {
          "output_type": "display_data",
          "data": {
            "text/html": [
              "<html>\n",
              "<head><meta charset=\"utf-8\" /></head>\n",
              "<body>\n",
              "    <div>\n",
              "            <script src=\"https://cdnjs.cloudflare.com/ajax/libs/mathjax/2.7.5/MathJax.js?config=TeX-AMS-MML_SVG\"></script><script type=\"text/javascript\">if (window.MathJax) {MathJax.Hub.Config({SVG: {font: \"STIX-Web\"}});}</script>\n",
              "                <script type=\"text/javascript\">window.PlotlyConfig = {MathJaxConfig: 'local'};</script>\n",
              "        <script src=\"https://cdn.plot.ly/plotly-latest.min.js\"></script>    \n",
              "            <div id=\"47ec66bb-da2e-4a89-b57c-951a7f809173\" class=\"plotly-graph-div\" style=\"height:525px; width:100%;\"></div>\n",
              "            <script type=\"text/javascript\">\n",
              "                \n",
              "                    window.PLOTLYENV=window.PLOTLYENV || {};\n",
              "                    \n",
              "                if (document.getElementById(\"47ec66bb-da2e-4a89-b57c-951a7f809173\")) {\n",
              "                    Plotly.newPlot(\n",
              "                        '47ec66bb-da2e-4a89-b57c-951a7f809173',\n",
              "                        [{\"hoverlabel\": {\"namelength\": 0}, \"hovertemplate\": \"PC 1=%{x}<br>PC 2=%{y}<br>PC 3=%{z}<br>year=%{marker.color}<br>week_id=%{text}\", \"legendgroup\": \"\", \"marker\": {\"color\": [1, 1, 1, 1, 1, 1, 1, 1, 1, 1, 1, 1, 1, 1, 1, 1, 1, 1, 1, 1, 1, 1, 1, 1, 1, 1, 1, 1, 1, 1, 1, 1, 1, 1, 1, 1, 1, 1, 1, 1, 1, 1, 1, 1, 1, 1, 1, 1, 1, 1, 1, 1, 2, 2, 2, 2, 2, 2, 2, 2, 2, 2, 2, 2, 2, 2, 2, 2, 2, 2, 2, 2, 2, 2, 2, 2, 2, 2, 2, 2, 2, 2, 2, 2, 2, 2, 2, 2, 2, 2, 2, 2, 2, 2, 2, 2, 2, 2, 2, 2, 2, 2, 2, 2, 3, 3, 3, 3, 3, 3, 3, 3, 3, 3, 3, 3, 3, 3, 3, 3, 3, 3, 3, 3, 3, 3, 3, 3, 3, 3, 3, 3, 3, 3, 3, 3, 3, 3, 3, 3, 3, 3, 3, 3, 3, 3, 3, 3, 3, 3, 3, 3, 3, 3, 3, 3, 4, 4, 4, 4, 4, 4, 4, 4, 4, 4, 4, 4, 4, 4, 4, 4, 4, 4, 4, 4, 4, 4, 4, 4, 4, 4, 4, 4, 4, 4, 4, 4, 4, 4, 4, 4, 4, 4, 4, 4, 4, 4, 4, 4, 4, 4, 4, 4, 4, 4, 4, 4, 5, 5, 5, 5, 5, 5, 5, 5, 5, 5, 5, 5, 5, 5, 5, 5, 5], \"coloraxis\": \"coloraxis\", \"opacity\": 0.8, \"size\": [1, 1, 1, 1, 1, 1, 1, 1, 1, 1, 1, 1, 1, 1, 1, 1, 1, 1, 1, 1, 1, 1, 1, 1, 1, 1, 1, 1, 1, 1, 1, 1, 1, 1, 1, 1, 1, 1, 1, 1, 1, 1, 1, 1, 1, 1, 1, 1, 1, 1, 1, 1, 2, 2, 2, 2, 2, 2, 2, 2, 2, 2, 2, 2, 2, 2, 2, 2, 2, 2, 2, 2, 2, 2, 2, 2, 2, 2, 2, 2, 2, 2, 2, 2, 2, 2, 2, 2, 2, 2, 2, 2, 2, 2, 2, 2, 2, 2, 2, 2, 2, 2, 2, 2, 3, 3, 3, 3, 3, 3, 3, 3, 3, 3, 3, 3, 3, 3, 3, 3, 3, 3, 3, 3, 3, 3, 3, 3, 3, 3, 3, 3, 3, 3, 3, 3, 3, 3, 3, 3, 3, 3, 3, 3, 3, 3, 3, 3, 3, 3, 3, 3, 3, 3, 3, 3, 4, 4, 4, 4, 4, 4, 4, 4, 4, 4, 4, 4, 4, 4, 4, 4, 4, 4, 4, 4, 4, 4, 4, 4, 4, 4, 4, 4, 4, 4, 4, 4, 4, 4, 4, 4, 4, 4, 4, 4, 4, 4, 4, 4, 4, 4, 4, 4, 4, 4, 4, 4, 5, 5, 5, 5, 5, 5, 5, 5, 5, 5, 5, 5, 5, 5, 5, 5, 5], \"sizemode\": \"area\", \"sizeref\": 0.0125, \"symbol\": \"circle\"}, \"mode\": \"markers+text\", \"name\": \"\", \"scene\": \"scene\", \"showlegend\": false, \"text\": [711.0, 712.0, 713.0, 714.0, 715.0, 716.0, 717.0, 718.0, 719.0, 720.0, 721.0, 722.0, 723.0, 724.0, 725.0, 726.0, 727.0, 728.0, 729.0, 730.0, 731.0, 732.0, 733.0, 734.0, 735.0, 736.0, 737.0, 738.0, 739.0, 740.0, 741.0, 742.0, 743.0, 744.0, 745.0, 746.0, 747.0, 748.0, 749.0, 750.0, 751.0, 752.0, 753.0, 754.0, 755.0, 756.0, 757.0, 758.0, 759.0, 760.0, 761.0, 762.0, 763.0, 764.0, 765.0, 766.0, 767.0, 768.0, 769.0, 770.0, 771.0, 772.0, 773.0, 774.0, 775.0, 776.0, 777.0, 778.0, 779.0, 780.0, 781.0, 782.0, 783.0, 784.0, 785.0, 786.0, 787.0, 788.0, 789.0, 790.0, 791.0, 792.0, 793.0, 794.0, 795.0, 796.0, 797.0, 798.0, 799.0, 800.0, 801.0, 802.0, 803.0, 804.0, 805.0, 806.0, 807.0, 808.0, 809.0, 810.0, 811.0, 812.0, 813.0, 814.0, 815.0, 816.0, 817.0, 818.0, 819.0, 820.0, 821.0, 822.0, 823.0, 824.0, 825.0, 826.0, 827.0, 828.0, 829.0, 830.0, 831.0, 832.0, 833.0, 834.0, 835.0, 836.0, 837.0, 838.0, 839.0, 840.0, 841.0, 842.0, 843.0, 844.0, 845.0, 846.0, 847.0, 848.0, 849.0, 850.0, 851.0, 852.0, 853.0, 854.0, 855.0, 856.0, 857.0, 858.0, 859.0, 860.0, 861.0, 862.0, 863.0, 864.0, 865.0, 866.0, 867.0, 868.0, 869.0, 870.0, 871.0, 872.0, 873.0, 874.0, 875.0, 876.0, 877.0, 878.0, 879.0, 880.0, 881.0, 882.0, 883.0, 884.0, 885.0, 886.0, 887.0, 888.0, 889.0, 890.0, 891.0, 892.0, 893.0, 894.0, 895.0, 896.0, 897.0, 898.0, 899.0, 900.0, 901.0, 902.0, 903.0, 904.0, 905.0, 906.0, 907.0, 908.0, 909.0, 910.0, 911.0, 912.0, 913.0, 914.0, 915.0, 916.0, 917.0, 918.0, 919.0, 920.0, 921.0, 922.0, 923.0, 924.0, 925.0, 926.0, 927.0, 928.0, 929.0, 930.0, 931.0, 932.0, 933.0, 934.0, 935.0], \"type\": \"scatter3d\", \"x\": [1.0035872027255612, 0.9933716077243048, 0.8038154350587403, 0.7084135383981551, 0.8647908115866162, 0.5763044876422979, 0.6954779566828819, 0.6072384985035875, 0.7505036062724051, 0.4822073706538164, 0.7381799209011249, 0.39354999755200154, 0.46978164744170925, 0.7805304910908718, 0.5082631902134614, 0.3175606328559353, 0.5263223078397818, 0.13964154776967727, 0.22608546862821052, 0.07044659827766211, 0.3180216851563051, 0.3195490072431951, -0.4146733758811988, -0.21836378562068165, -0.46704870124364384, -0.37574837370316266, -0.4055126536369045, -0.2789457038969826, -0.43367265980333525, -0.3354198063616715, -0.39599062061922696, -0.48984513335156654, -0.633417871868027, -0.5765730808336025, -0.6636069532838469, -0.5348301126093659, -0.7602473680419846, -0.6475510885880059, -0.5789512190796883, -0.7439757365323412, -0.47607992744975375, -0.5477490313663052, -0.46579041753083056, -0.3460368632753147, -0.09855869361638057, -0.18970414328038587, 0.19005483301488674, 0.5067340667272486, 0.5623359751136069, 0.7068324532356486, 0.169061005618406, 0.10372101855612809, 0.8487149488460839, 0.8487149488460839, 0.7121935859191051, 0.7031059731380561, 1.0995984549689546, 1.3093865423470683, 1.4510997486857846, 1.3832685710345343, 1.2014473029815897, 0.6220400170475318, 0.36436933667465704, 0.38486134480695666, 0.32044954365705247, -0.02484439637309334, -0.09372486004178271, -0.13800992899352799, -0.4230958755760499, -0.24578993567431423, -0.05555843010278384, -0.14124109136025587, -0.05633941523849366, -0.7020771685140783, -0.8189544751352232, -0.5717666409876406, -0.3432848110274633, -0.9220785514950104, -0.7149504580190679, -0.8101461285326508, -0.5973212123896292, -0.5545015452984381, -0.6099641909370423, -0.747723795590926, -0.8417512239629316, -0.8542929747718, -0.6551559962991446, -0.6281517102989759, -0.7477570117547927, -0.9973600931192513, -0.6673069263302193, -0.6960253706114141, -0.6058745028291388, -0.4530579818249567, -0.6075734328665449, -0.6241034763670569, -0.532934087385772, -0.45674680694442, -0.16610776144728856, 0.1128552232536839, 0.06120848754883999, 0.70392322493391, 0.4328332961585962, 0.5979342285749356, 0.2830039634212122, 0.622123398060801, 0.8451982417227331, 0.38580585664642114, 0.8216933974513245, 1.0055967145460216, 0.8498922636525776, 0.5318628423052709, 0.7268956116973404, 0.63591324095517, 0.5350405672496021, 0.7434620528488481, 0.5409855113213876, 0.1462386374918112, 0.2528573151304793, 0.2858759776452121, 0.16901250820148114, 0.08052460289907108, 0.05911347491706328, 0.49330992389315154, -0.35811346584999315, -0.6003758943788164, -0.5669583084675641, -0.6560204599820573, -0.6572430236218083, -0.5152577996586948, -0.6015586672263785, -0.40162469600915957, -0.48060435700545096, -0.28880214584011255, -0.5829382507782769, -0.4667861467247712, -0.35587404032724174, -0.501453279110789, -0.5566694928280361, -0.5023011719155688, -0.5684708109190375, -0.7192713356920589, -0.6619912301664258, -0.7283401684762657, -0.7073751819559353, -0.5990177702232529, -0.6929299615806767, -0.5953065045174608, -0.6601004833511998, -0.3661336242650687, -0.12872840279005132, -0.07000740785482573, -0.316854230615262, 0.3072429000069023, 0.0840610182800117, 0.28177310303141045, 0.5288664975012093, 0.5865188253448752, 0.5509849387285717, 0.7846141166966438, 0.5388485178598474, 0.5072976712152557, 0.29405043754267884, 0.2601011291281491, 0.27949547647189305, 0.08643700660671495, 0.19907110111781787, 0.11940163193868629, -0.0196770970671642, 0.5416300237630012, 0.32389946214014903, -0.15004062311293637, -0.3170065739288822, 0.1640405110260983, -0.12481931346543142, -0.5667976215599102, -0.5104148160606069, -0.5102552868956184, -0.6414374301012205, -0.5490453991772186, -0.6313575470523319, -0.7295110862953164, -0.5713879604621235, -0.5318175377784439, -0.5794818154964307, -0.6529008058579588, -0.4739746551601209, -0.5350047988417815, -0.4985057137963747, -0.5831748185461069, -0.6515754062866154, -0.5426758281571608, -0.6317930794902017, -0.5719090671447266, -0.5818630323809689, -0.5446608749301851, -0.6517004908068162, -0.7129110824973091, -0.37864242649921676, -0.10710633853764698, -0.20893802757362545, -0.16960036961333352, -0.09355639184844311, 0.5266890742738587, 0.34949806953852636, 0.3594029142408696, 0.44325655507275763, 0.6028669480764107, 0.6433593087647407, 0.7490797971548669, 0.8401551904810707, 0.7714463952148769, 0.8275277180067222, 1.149467690497163, 0.8011485366323225, 0.8067582386669808, 0.8668341681223867, 0.7376790328464826, 0.818187142343486, 0.7222727163708231, 0.9047855461277143, 0.44272825563578105, 0.7745743350707637, 0.7570209219540869, 0.07665105067260869], \"y\": [-0.010809838983614959, -0.03823732380762307, 0.10808691635721066, 0.1735350032233971, -0.19328841591678844, -0.40617925020407586, -0.1217067202420948, -0.19307928895537108, 0.03724218557606147, -0.23668681266464894, -0.18331696372353576, 0.09103955320881323, -0.03750636473338292, 0.34920468901501167, -0.4622369122462085, -0.06465552138477035, -0.26599603848691683, 0.2609070386044696, 0.03326568381656761, 0.2082939328719165, 0.8194190926151076, 1.0336899405478135, -0.09816142205448981, 0.09255012848835366, 0.02643451904205992, -0.038876482850200865, 0.13668544181899603, 0.193400695436765, 0.2897681388582112, -0.01778578800870318, 0.21437469685073537, -0.05818702638297142, -0.24270009222650307, 0.15647981497527486, 0.0553163905050841, -0.10275015957378375, 0.10000569185593394, 0.21416055620211655, 0.9984191816195696, -0.5196992778866388, 0.18536382322978667, 0.10969053108889139, -0.009314956038251467, 0.39576753854585356, 0.2548470713355517, 0.11225860991414562, 0.9233686052392833, 0.10597541028154264, -0.19632257087456978, -0.13178381356244467, 0.26891653352981054, 0.661946422092349, 0.2354710523079438, 0.2354710523079438, 0.4009897050792302, 0.5098093792096642, 0.11481963823003452, 0.3173476843591565, -0.4000975399294434, -0.23631700336433265, 0.11363368686419356, -0.13509989766779365, -0.577604655114787, -0.8177761506141863, -0.7202954213587558, -0.4871408842035573, -0.25367084413659446, -0.29290746741700646, -0.25423127245577076, 0.7106197570655324, 0.024138194584595454, -0.04850084090791703, 0.7548982631404658, 0.5384588030934695, 0.1591470780042093, -0.06617869003903792, 0.3605147802653806, -0.4004099500963668, 0.1303758064973815, -0.027633689365868228, 0.29440882866277956, -0.023353709202567016, 0.23899126024240033, 0.2340829554339039, -0.21239904923033656, -0.08020013672750512, -0.17523358292860414, 0.2282370634145353, -0.5480717381141449, -0.18969956667881485, -0.1683285877975844, -0.035855761563043605, 0.1332547084734381, 0.6012278207684162, 0.16515231192587063, 0.17511762818324397, -0.057243845539171084, 0.033805199340636645, 0.22646505439466558, 0.025941977364923822, 0.1458047749984758, -0.25002730194233036, 0.017826485535905743, -0.0851624488510581, 0.08731073479346936, 0.06205299938570916, -0.13214690150041933, 0.38223645526514566, 0.2544312654767526, -0.08940476378723097, 0.008494995892019656, -0.18853159463007405, -0.24187431463384199, -0.39320501664468055, -0.3529190244272278, -0.15648495857698216, -0.043174647681471875, -0.28969638960637706, 0.5029614961027274, 0.11681228396940439, 0.044625463280935904, 0.19936153897691888, 0.1342201951914351, 0.33025228328163336, 0.20735740383670123, -0.3781915837058857, -0.1574884613390061, -0.4371695631726456, -0.3000664959185152, 0.041157321656014385, 0.3565300935162751, 0.0426726980648553, 0.26588216581948193, 0.11274672481732782, -0.007037613455380847, 0.40684310221147146, 0.46383744181837944, 0.03777674286003348, 0.08658820675099912, 0.23953376555044445, -0.04497141467745115, -0.1776104543487547, -0.32419959754077043, -0.2260267390156409, -0.40877138897551435, -0.23312272962272831, 0.2346139743834776, 0.12962214405962297, 0.2332839724721324, -0.13172096846327824, -0.1926232849672379, -0.3000885447450142, 0.0796242305731987, 0.21021523304094739, 0.09126109033225695, 0.07061721027512106, 0.2604766597187177, -0.0990434487397163, 0.22504682246733293, -0.05628482373429558, -0.5342589322690573, -0.2904622430296367, -0.49644901540744407, -0.5660680182452482, -0.00021222669178136257, -0.3756884635822447, -0.4780717807525111, -0.33640642573117, -0.1435011384200985, 0.2211064764862622, -0.5412418754349467, -0.4030243689556785, 0.27049269834487427, 0.6193158405474246, -0.02490638333454015, -0.46504787720059565, -0.40965477813458134, -0.22248743914431704, -0.27534045361263815, -0.016917458209730535, -0.47068587524717775, -0.1860733993611112, -0.2837662385971961, -0.2787712979566819, -0.1295660772444939, 0.29175673874486857, -0.30620785508343035, 0.09840150107279959, 0.19557656790615086, -0.1398229440044581, -0.05455204447817708, -0.2390273500788279, -0.3251129675357088, 0.0014080151677556567, -0.03547135234673645, 0.04500681853838739, 0.06182492127805742, -0.4930039730459692, -0.20499789064789178, 0.7482041558082023, -0.19392108034650588, -0.10251027903764474, 0.18783220797179206, 0.047371278123899, 0.2809192755096563, 0.3193969115887951, 0.5873815005908981, -0.1133548775185578, 0.18857571566490597, 0.22572316033467937, 0.0018936378400488752, 0.5678465248139001, -0.3152556659305674, -0.06516505070989227, -0.026779474624729082, -0.011191369509860865, -0.015087563694732487, -0.12178946200703503, -0.06444338121659589, -0.3972097705908115, -0.2723833607205024, -0.15600767860047218, 0.12161025708332461, -0.27398328612800804, -0.3460594613683962], \"z\": [-0.22031069354255703, -0.2891824989491209, -0.3972735226635636, 0.6041863425494901, -0.2667690869211883, 0.08587459926495418, -0.21092417270801583, 0.06348350487788047, 0.18849317103720284, -0.012933725239194898, -0.028780757198533888, 0.5587057110879357, 0.09519075655454029, 0.1997839485861115, -0.16302530240585208, -0.05999966083578329, -0.3289049277454288, 0.047986134335570335, 0.09180393746189709, -0.08753495988465206, -0.04630336063277513, -0.005781588417151367, 0.261612248115179, -0.15766397539499352, 0.2214540078338162, -0.13760617305059597, -0.0645179937394219, -0.12177431801438504, -0.34137813975035014, -0.10530641716883, -0.1378870965521404, -0.13841946147058204, -0.08088465569511846, -0.20313747949384925, 0.01927181869397793, -0.1591587821850805, 0.0410458132594198, -0.10261962761544148, -0.022157036633319582, 0.0028514162930420896, 0.0878830536690992, -0.2194530005923342, 0.07643327084537092, 0.0037185677033268424, -0.1627310484765325, 0.16839756251053867, -0.21476047611250015, -0.4510770237121906, -0.3925480115311585, -0.09622954055453935, -0.11508974173793929, -0.04595230308926299, -0.0076863795555338395, -0.0076863795555338395, -0.025181746575235947, -0.2950876568448643, 0.2666175222384878, -0.12783534221071974, -0.21423933356242655, 0.19626752439765852, -0.23589541708674489, 0.36254631040177876, 0.2053467407294518, 0.396417027540786, 0.4068746112464244, 0.22262798985363833, 0.22104517471307975, 0.3671412136892624, 0.5799174232023024, 0.6660587946335136, -0.2619642772821176, 0.10468492433329298, 0.40563148995328685, 0.4388757949147612, -0.05584215269137407, -0.31262110312703617, 0.04821923854848355, -0.10473159210707188, 0.10572065166251979, -0.2825660810236044, 0.022371314648762367, -0.3115359098995998, -0.3207398783064364, -0.05328441182130619, -0.3114402529669263, 0.11294115466476831, 0.25869828262376426, 0.18179506136149715, -0.03487120559399021, 0.042290099073311584, -0.05976012002034131, -0.09903376082771234, 0.07954356063459309, 0.5278801179291888, -0.13115076928648436, -0.06861337542920758, -0.22708621651110983, -0.16749750662843613, -0.19023155352079332, -0.2156607263569192, -0.37273906527805734, -0.05854142419422288, -0.1488418991995693, -0.387188447666345, -0.10134818575209252, 0.08006821561039115, -0.170566874708369, 0.32766437964102735, -0.005577406759477065, 0.07801135190488707, -0.19012417604596907, 0.13305657101727392, -0.34830616418587984, -0.057722393548560576, 0.24124428150459992, 0.06562079259759873, 0.15139165997205448, 0.456031546914808, 0.4553243406681758, 0.20065334161400183, 0.11963448163915844, 0.34546720324413427, 0.3270037264996819, 0.16516237914336654, 0.058876679869079705, -0.19216038939824923, 0.1876238216107176, 0.20566129730682403, 0.009909270792654374, 0.11234297736810857, 0.0781587359624411, -0.028752686168716478, 0.14224331883473812, -0.12961665774610437, 0.09175997935782493, 0.04982886956951294, -0.04194394140687502, -0.44245653165433113, -0.12750474466978642, -0.1639499713094219, -0.062307596528756365, 0.05287364894343685, -0.12077123887055731, -0.14640063242646373, -0.1580597248364767, -0.37404044009717186, 0.4468164418805046, 0.10420400008574505, -0.13126883070465872, -0.35760708406039704, -0.09922011937454069, 0.10204583933283397, 0.44675314585030595, -0.14402822741798224, -0.3146682018676011, -0.03633290492745992, -0.22902340819124514, -0.1590344141762447, 0.39535893074703615, -0.42092922323172377, 0.49008630112257145, -0.13926637813799053, 0.14241887169256615, 0.30753637042725973, 0.5846685391328833, 0.21676150629907456, 0.16666788246538197, 0.15830922951242776, 0.40641561051638275, -0.029615059708352858, 0.08238526047983774, 0.3613866098745131, 0.6767605386803148, 0.07907562558444013, 0.0020586034159678353, -0.2500020696534699, 0.30997823903696314, 0.21927445542166757, 0.11391496611501921, 0.19448339669115486, -0.17569704241405454, -0.2598164655237111, -0.17802334069909156, -0.16453618840883305, 0.10495034850026255, 0.12128973496348992, -0.44680023682764664, -0.14765000076048582, -0.07985321878500623, -0.42713196167000206, 0.013046053112254086, -0.2491214467341287, -0.25156090515559837, -0.06944444832688033, -0.008541822473256369, 0.07758335343574574, 0.11302076304852388, -0.19649048557656287, -0.2900877800673374, 0.07750995357495387, -0.21425109670088807, -0.006461479074509451, -0.10885068555055599, -0.07065039175259241, 0.022196088930753477, -0.09992146242267971, -0.03880657149348245, 0.04080035679678577, -0.33232341466433324, -0.4897754536021643, 0.20465998347297462, -0.06367054536169632, 0.11975880115332473, -0.4069668105701914, -0.022327766657023213, -0.3784276078363006, -0.0896184709300758, -0.016115527472409005, -0.009850400311691258, 0.569079296680342, -0.28772779626874223, 0.29633465012449317, 0.042876063875247, -0.08584856769988815, 0.5328190429063706]}],\n",
              "                        {\"coloraxis\": {\"colorbar\": {\"title\": {\"text\": \"year\"}}, \"colorscale\": [[0.0, \"#0d0887\"], [0.1111111111111111, \"#46039f\"], [0.2222222222222222, \"#7201a8\"], [0.3333333333333333, \"#9c179e\"], [0.4444444444444444, \"#bd3786\"], [0.5555555555555556, \"#d8576b\"], [0.6666666666666666, \"#ed7953\"], [0.7777777777777778, \"#fb9f3a\"], [0.8888888888888888, \"#fdca26\"], [1.0, \"#f0f921\"]]}, \"legend\": {\"itemsizing\": \"constant\", \"tracegroupgap\": 0}, \"scene\": {\"domain\": {\"x\": [0.0, 1.0], \"y\": [0.0, 1.0]}, \"xaxis\": {\"title\": {\"text\": \"PC 1\"}}, \"yaxis\": {\"title\": {\"text\": \"PC 2\"}}, \"zaxis\": {\"title\": {\"text\": \"PC 3\"}}}, \"template\": {\"data\": {\"bar\": [{\"error_x\": {\"color\": \"#2a3f5f\"}, \"error_y\": {\"color\": \"#2a3f5f\"}, \"marker\": {\"line\": {\"color\": \"#E5ECF6\", \"width\": 0.5}}, \"type\": \"bar\"}], \"barpolar\": [{\"marker\": {\"line\": {\"color\": \"#E5ECF6\", \"width\": 0.5}}, \"type\": \"barpolar\"}], \"carpet\": [{\"aaxis\": {\"endlinecolor\": \"#2a3f5f\", \"gridcolor\": \"white\", \"linecolor\": \"white\", \"minorgridcolor\": \"white\", \"startlinecolor\": \"#2a3f5f\"}, \"baxis\": {\"endlinecolor\": \"#2a3f5f\", \"gridcolor\": \"white\", \"linecolor\": \"white\", \"minorgridcolor\": \"white\", \"startlinecolor\": \"#2a3f5f\"}, \"type\": \"carpet\"}], \"choropleth\": [{\"colorbar\": {\"outlinewidth\": 0, \"ticks\": \"\"}, \"type\": \"choropleth\"}], \"contour\": [{\"colorbar\": {\"outlinewidth\": 0, \"ticks\": \"\"}, \"colorscale\": [[0.0, \"#0d0887\"], [0.1111111111111111, \"#46039f\"], [0.2222222222222222, \"#7201a8\"], [0.3333333333333333, \"#9c179e\"], [0.4444444444444444, \"#bd3786\"], [0.5555555555555556, \"#d8576b\"], [0.6666666666666666, \"#ed7953\"], [0.7777777777777778, \"#fb9f3a\"], [0.8888888888888888, \"#fdca26\"], [1.0, \"#f0f921\"]], \"type\": \"contour\"}], \"contourcarpet\": [{\"colorbar\": {\"outlinewidth\": 0, \"ticks\": \"\"}, \"type\": \"contourcarpet\"}], \"heatmap\": [{\"colorbar\": {\"outlinewidth\": 0, \"ticks\": \"\"}, \"colorscale\": [[0.0, \"#0d0887\"], [0.1111111111111111, \"#46039f\"], [0.2222222222222222, \"#7201a8\"], [0.3333333333333333, \"#9c179e\"], [0.4444444444444444, \"#bd3786\"], [0.5555555555555556, \"#d8576b\"], [0.6666666666666666, \"#ed7953\"], [0.7777777777777778, \"#fb9f3a\"], [0.8888888888888888, \"#fdca26\"], [1.0, \"#f0f921\"]], \"type\": \"heatmap\"}], \"heatmapgl\": [{\"colorbar\": {\"outlinewidth\": 0, \"ticks\": \"\"}, \"colorscale\": [[0.0, \"#0d0887\"], [0.1111111111111111, \"#46039f\"], [0.2222222222222222, \"#7201a8\"], [0.3333333333333333, \"#9c179e\"], [0.4444444444444444, \"#bd3786\"], [0.5555555555555556, \"#d8576b\"], [0.6666666666666666, \"#ed7953\"], [0.7777777777777778, \"#fb9f3a\"], [0.8888888888888888, \"#fdca26\"], [1.0, \"#f0f921\"]], \"type\": \"heatmapgl\"}], \"histogram\": [{\"marker\": {\"colorbar\": {\"outlinewidth\": 0, \"ticks\": \"\"}}, \"type\": \"histogram\"}], \"histogram2d\": [{\"colorbar\": {\"outlinewidth\": 0, \"ticks\": \"\"}, \"colorscale\": [[0.0, \"#0d0887\"], [0.1111111111111111, \"#46039f\"], [0.2222222222222222, \"#7201a8\"], [0.3333333333333333, \"#9c179e\"], [0.4444444444444444, \"#bd3786\"], [0.5555555555555556, \"#d8576b\"], [0.6666666666666666, \"#ed7953\"], [0.7777777777777778, \"#fb9f3a\"], [0.8888888888888888, \"#fdca26\"], [1.0, \"#f0f921\"]], \"type\": \"histogram2d\"}], \"histogram2dcontour\": [{\"colorbar\": {\"outlinewidth\": 0, \"ticks\": \"\"}, \"colorscale\": [[0.0, \"#0d0887\"], [0.1111111111111111, \"#46039f\"], [0.2222222222222222, \"#7201a8\"], [0.3333333333333333, \"#9c179e\"], [0.4444444444444444, \"#bd3786\"], [0.5555555555555556, \"#d8576b\"], [0.6666666666666666, \"#ed7953\"], [0.7777777777777778, \"#fb9f3a\"], [0.8888888888888888, \"#fdca26\"], [1.0, \"#f0f921\"]], \"type\": \"histogram2dcontour\"}], \"mesh3d\": [{\"colorbar\": {\"outlinewidth\": 0, \"ticks\": \"\"}, \"type\": \"mesh3d\"}], \"parcoords\": [{\"line\": {\"colorbar\": {\"outlinewidth\": 0, \"ticks\": \"\"}}, \"type\": \"parcoords\"}], \"pie\": [{\"automargin\": true, \"type\": \"pie\"}], \"scatter\": [{\"marker\": {\"colorbar\": {\"outlinewidth\": 0, \"ticks\": \"\"}}, \"type\": \"scatter\"}], \"scatter3d\": [{\"line\": {\"colorbar\": {\"outlinewidth\": 0, \"ticks\": \"\"}}, \"marker\": {\"colorbar\": {\"outlinewidth\": 0, \"ticks\": \"\"}}, \"type\": \"scatter3d\"}], \"scattercarpet\": [{\"marker\": {\"colorbar\": {\"outlinewidth\": 0, \"ticks\": \"\"}}, \"type\": \"scattercarpet\"}], \"scattergeo\": [{\"marker\": {\"colorbar\": {\"outlinewidth\": 0, \"ticks\": \"\"}}, \"type\": \"scattergeo\"}], \"scattergl\": [{\"marker\": {\"colorbar\": {\"outlinewidth\": 0, \"ticks\": \"\"}}, \"type\": \"scattergl\"}], \"scattermapbox\": [{\"marker\": {\"colorbar\": {\"outlinewidth\": 0, \"ticks\": \"\"}}, \"type\": \"scattermapbox\"}], \"scatterpolar\": [{\"marker\": {\"colorbar\": {\"outlinewidth\": 0, \"ticks\": \"\"}}, \"type\": \"scatterpolar\"}], \"scatterpolargl\": [{\"marker\": {\"colorbar\": {\"outlinewidth\": 0, \"ticks\": \"\"}}, \"type\": \"scatterpolargl\"}], \"scatterternary\": [{\"marker\": {\"colorbar\": {\"outlinewidth\": 0, \"ticks\": \"\"}}, \"type\": \"scatterternary\"}], \"surface\": [{\"colorbar\": {\"outlinewidth\": 0, \"ticks\": \"\"}, \"colorscale\": [[0.0, \"#0d0887\"], [0.1111111111111111, \"#46039f\"], [0.2222222222222222, \"#7201a8\"], [0.3333333333333333, \"#9c179e\"], [0.4444444444444444, \"#bd3786\"], [0.5555555555555556, \"#d8576b\"], [0.6666666666666666, \"#ed7953\"], [0.7777777777777778, \"#fb9f3a\"], [0.8888888888888888, \"#fdca26\"], [1.0, \"#f0f921\"]], \"type\": \"surface\"}], \"table\": [{\"cells\": {\"fill\": {\"color\": \"#EBF0F8\"}, \"line\": {\"color\": \"white\"}}, \"header\": {\"fill\": {\"color\": \"#C8D4E3\"}, \"line\": {\"color\": \"white\"}}, \"type\": \"table\"}]}, \"layout\": {\"annotationdefaults\": {\"arrowcolor\": \"#2a3f5f\", \"arrowhead\": 0, \"arrowwidth\": 1}, \"coloraxis\": {\"colorbar\": {\"outlinewidth\": 0, \"ticks\": \"\"}}, \"colorscale\": {\"diverging\": [[0, \"#8e0152\"], [0.1, \"#c51b7d\"], [0.2, \"#de77ae\"], [0.3, \"#f1b6da\"], [0.4, \"#fde0ef\"], [0.5, \"#f7f7f7\"], [0.6, \"#e6f5d0\"], [0.7, \"#b8e186\"], [0.8, \"#7fbc41\"], [0.9, \"#4d9221\"], [1, \"#276419\"]], \"sequential\": [[0.0, \"#0d0887\"], [0.1111111111111111, \"#46039f\"], [0.2222222222222222, \"#7201a8\"], [0.3333333333333333, \"#9c179e\"], [0.4444444444444444, \"#bd3786\"], [0.5555555555555556, \"#d8576b\"], [0.6666666666666666, \"#ed7953\"], [0.7777777777777778, \"#fb9f3a\"], [0.8888888888888888, \"#fdca26\"], [1.0, \"#f0f921\"]], \"sequentialminus\": [[0.0, \"#0d0887\"], [0.1111111111111111, \"#46039f\"], [0.2222222222222222, \"#7201a8\"], [0.3333333333333333, \"#9c179e\"], [0.4444444444444444, \"#bd3786\"], [0.5555555555555556, \"#d8576b\"], [0.6666666666666666, \"#ed7953\"], [0.7777777777777778, \"#fb9f3a\"], [0.8888888888888888, \"#fdca26\"], [1.0, \"#f0f921\"]]}, \"colorway\": [\"#636efa\", \"#EF553B\", \"#00cc96\", \"#ab63fa\", \"#FFA15A\", \"#19d3f3\", \"#FF6692\", \"#B6E880\", \"#FF97FF\", \"#FECB52\"], \"font\": {\"color\": \"#2a3f5f\"}, \"geo\": {\"bgcolor\": \"white\", \"lakecolor\": \"white\", \"landcolor\": \"#E5ECF6\", \"showlakes\": true, \"showland\": true, \"subunitcolor\": \"white\"}, \"hoverlabel\": {\"align\": \"left\"}, \"hovermode\": \"closest\", \"mapbox\": {\"style\": \"light\"}, \"paper_bgcolor\": \"white\", \"plot_bgcolor\": \"#E5ECF6\", \"polar\": {\"angularaxis\": {\"gridcolor\": \"white\", \"linecolor\": \"white\", \"ticks\": \"\"}, \"bgcolor\": \"#E5ECF6\", \"radialaxis\": {\"gridcolor\": \"white\", \"linecolor\": \"white\", \"ticks\": \"\"}}, \"scene\": {\"xaxis\": {\"backgroundcolor\": \"#E5ECF6\", \"gridcolor\": \"white\", \"gridwidth\": 2, \"linecolor\": \"white\", \"showbackground\": true, \"ticks\": \"\", \"zerolinecolor\": \"white\"}, \"yaxis\": {\"backgroundcolor\": \"#E5ECF6\", \"gridcolor\": \"white\", \"gridwidth\": 2, \"linecolor\": \"white\", \"showbackground\": true, \"ticks\": \"\", \"zerolinecolor\": \"white\"}, \"zaxis\": {\"backgroundcolor\": \"#E5ECF6\", \"gridcolor\": \"white\", \"gridwidth\": 2, \"linecolor\": \"white\", \"showbackground\": true, \"ticks\": \"\", \"zerolinecolor\": \"white\"}}, \"shapedefaults\": {\"line\": {\"color\": \"#2a3f5f\"}}, \"ternary\": {\"aaxis\": {\"gridcolor\": \"white\", \"linecolor\": \"white\", \"ticks\": \"\"}, \"baxis\": {\"gridcolor\": \"white\", \"linecolor\": \"white\", \"ticks\": \"\"}, \"bgcolor\": \"#E5ECF6\", \"caxis\": {\"gridcolor\": \"white\", \"linecolor\": \"white\", \"ticks\": \"\"}}, \"title\": {\"x\": 0.05}, \"xaxis\": {\"automargin\": true, \"gridcolor\": \"white\", \"linecolor\": \"white\", \"ticks\": \"\", \"title\": {\"standoff\": 15}, \"zerolinecolor\": \"white\", \"zerolinewidth\": 2}, \"yaxis\": {\"automargin\": true, \"gridcolor\": \"white\", \"linecolor\": \"white\", \"ticks\": \"\", \"title\": {\"standoff\": 15}, \"zerolinecolor\": \"white\", \"zerolinewidth\": 2}}}, \"title\": {\"text\": \"Total Explained Variance: 100.00%\"}},\n",
              "                        {\"responsive\": true}\n",
              "                    ).then(function(){\n",
              "                            \n",
              "var gd = document.getElementById('47ec66bb-da2e-4a89-b57c-951a7f809173');\n",
              "var x = new MutationObserver(function (mutations, observer) {{\n",
              "        var display = window.getComputedStyle(gd).display;\n",
              "        if (!display || display === 'none') {{\n",
              "            console.log([gd, 'removed!']);\n",
              "            Plotly.purge(gd);\n",
              "            observer.disconnect();\n",
              "        }}\n",
              "}});\n",
              "\n",
              "// Listen for the removal of the full notebook cells\n",
              "var notebookContainer = gd.closest('#notebook-container');\n",
              "if (notebookContainer) {{\n",
              "    x.observe(notebookContainer, {childList: true});\n",
              "}}\n",
              "\n",
              "// Listen for the clearing of the current output cell\n",
              "var outputEl = gd.closest('.output');\n",
              "if (outputEl) {{\n",
              "    x.observe(outputEl, {childList: true});\n",
              "}}\n",
              "\n",
              "                        })\n",
              "                };\n",
              "                \n",
              "            </script>\n",
              "        </div>\n",
              "</body>\n",
              "</html>"
            ]
          },
          "metadata": {
            "tags": []
          }
        }
      ]
    },
    {
      "cell_type": "markdown",
      "metadata": {
        "id": "bcM3zqA-olhU"
      },
      "source": [
        "This graph is grouped by year with colors and sizes."
      ]
    },
    {
      "cell_type": "markdown",
      "metadata": {
        "id": "AhwtsQYXrXmy"
      },
      "source": [
        "## Outlier identification"
      ]
    },
    {
      "cell_type": "markdown",
      "metadata": {
        "id": "hdz0L6sRrfa6"
      },
      "source": [
        "The outlier detection is done by the DBSCAN algorithm. This technique is based on the theory that groups are defined by high-density areas. Low-density areas separate groups. The central points of a group have a neighborhood area for a given radius that has at least a minimum number of points, i.e. their neighborhood area exceeds a certain threshold."
      ]
    },
    {
      "cell_type": "markdown",
      "metadata": {
        "id": "2J0y_ACKo6sU"
      },
      "source": [
        "### Setting parameters\n",
        "\n",
        "\n",
        "1.   Computation of the distance matrix\n",
        "\n"
      ]
    },
    {
      "cell_type": "code",
      "metadata": {
        "id": "7Mjtq6_Qsypi"
      },
      "source": [
        "#Compute the similarity matrix\n",
        "dist = sklearn.neighbors.DistanceMetric.get_metric('euclidean')\n",
        "matsim = dist.pairwise(norm_data)\n",
        "\n",
        "#Visualization\n",
        "fig = px.imshow(matsim)\n",
        "fig.show()"
      ],
      "execution_count": null,
      "outputs": []
    }
  ]
}