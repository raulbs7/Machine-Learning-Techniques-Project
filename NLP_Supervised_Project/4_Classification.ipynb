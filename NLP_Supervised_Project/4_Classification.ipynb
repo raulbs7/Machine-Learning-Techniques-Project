{
  "nbformat": 4,
  "nbformat_minor": 0,
  "metadata": {
    "colab": {
      "name": "4_Classification.ipynb",
      "provenance": [],
      "toc_visible": true,
      "authorship_tag": "ABX9TyM3xLvnhUeQBUP5L/nuhVI0",
      "include_colab_link": true
    },
    "kernelspec": {
      "name": "python3",
      "display_name": "Python 3"
    }
  },
  "cells": [
    {
      "cell_type": "markdown",
      "metadata": {
        "id": "view-in-github",
        "colab_type": "text"
      },
      "source": [
        "<a href=\"https://colab.research.google.com/github/raulbs7/Machine-Learning-Techniques-Project/blob/master/NLP_Supervised_Project/4_Classification.ipynb\" target=\"_parent\"><img src=\"https://colab.research.google.com/assets/colab-badge.svg\" alt=\"Open In Colab\"/></a>"
      ]
    },
    {
      "cell_type": "markdown",
      "metadata": {
        "id": "FQh7zCgvPYji"
      },
      "source": [
        "# 4. TWEETS CLASSIFICATION"
      ]
    },
    {
      "cell_type": "markdown",
      "metadata": {
        "id": "uMb4wwlnPeyh"
      },
      "source": [
        "## 4.1 Imports"
      ]
    },
    {
      "cell_type": "code",
      "metadata": {
        "id": "Bv5Wk_TsPTr2"
      },
      "source": [
        "import pandas as pd\r\n",
        "import numpy as np\r\n",
        "import io\r\n",
        "import scipy.sparse as sp\r\n",
        "\r\n",
        "from google.colab import files\r\n",
        "from google.colab import drive\r\n",
        "\r\n",
        "\r\n",
        "from sklearn.preprocessing import StandardScaler, MinMaxScaler, MaxAbsScaler\r\n",
        "from sklearn.model_selection import train_test_split, KFold\r\n",
        "from sklearn.naive_bayes import GaussianNB, MultinomialNB, BernoulliNB, ComplementNB\r\n",
        "from sklearn.metrics import accuracy_score, f1_score, precision_score, recall_score\r\n",
        "from sklearn.metrics import confusion_matrix, mean_absolute_error\r\n",
        "from sklearn.utils.multiclass import unique_labels\r\n",
        "from sklearn.ensemble import RandomForestClassifier\r\n",
        "\r\n",
        "import seaborn as sns\r\n",
        "import matplotlib.pyplot as plt"
      ],
      "execution_count": 1,
      "outputs": []
    },
    {
      "cell_type": "markdown",
      "metadata": {
        "id": "lNGngDknQP8p"
      },
      "source": [
        "## 4.2 Importing files"
      ]
    },
    {
      "cell_type": "markdown",
      "metadata": {
        "id": "5Dnx4cNqQS4s"
      },
      "source": [
        "It is needed to import two files:\r\n",
        "\r\n",
        "\r\n",
        "*   **processed_tweets.csv**: this CSV contains the original preprocessed tweets with the corresponding labels of each tweet.\r\n",
        "*   **selected_features.npz**: this is a file with an **.npz** extension, which returns an sparse matrix, that can be used by many machine learning algorithms like dataframes.\r\n",
        "\r\n"
      ]
    },
    {
      "cell_type": "code",
      "metadata": {
        "id": "-VEmcoJ3RuyK"
      },
      "source": [
        "def upload_dataframes (index_fields):\r\n",
        "  uploaded = files.upload()\r\n",
        "  for fn in uploaded.keys():\r\n",
        "    print('User uploaded file \"{name}\" with length {length} bytes'.format(\r\n",
        "        name=fn, length=len(uploaded[fn])))\r\n",
        "    df = pd.read_csv(io.StringIO(uploaded[fn].decode('utf-8')), index_col = index_fields)\r\n",
        "    return df"
      ],
      "execution_count": 2,
      "outputs": []
    },
    {
      "cell_type": "code",
      "metadata": {
        "id": "-wbCQUERRzTa"
      },
      "source": [
        "def upload_matrix ():\r\n",
        "  uploaded = files.upload()\r\n",
        "  for fn in uploaded.keys():\r\n",
        "    print('User uploaded file \"{name}\" with length {length} bytes'.format(\r\n",
        "        name=fn, length=len(uploaded[fn])))\r\n",
        "    matrix = sp.load_npz(fn)\r\n",
        "    return matrix"
      ],
      "execution_count": 3,
      "outputs": []
    },
    {
      "cell_type": "code",
      "metadata": {
        "colab": {
          "resources": {
            "http://localhost:8080/nbextensions/google.colab/files.js": {
              "data": "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",
              "ok": true,
              "headers": [
                [
                  "content-type",
                  "application/javascript"
                ]
              ],
              "status": 200,
              "status_text": ""
            }
          },
          "base_uri": "https://localhost:8080/",
          "height": 89
        },
        "id": "bccQb_29R4VE",
        "outputId": "e80ae284-b46f-4ca2-d19f-0f634eb2f8e8"
      },
      "source": [
        "tweets = upload_dataframes([])"
      ],
      "execution_count": 4,
      "outputs": [
        {
          "output_type": "display_data",
          "data": {
            "text/html": [
              "\n",
              "     <input type=\"file\" id=\"files-ff65e825-5f3d-4d6c-b6f0-8db227e1c978\" name=\"files[]\" multiple disabled\n",
              "        style=\"border:none\" />\n",
              "     <output id=\"result-ff65e825-5f3d-4d6c-b6f0-8db227e1c978\">\n",
              "      Upload widget is only available when the cell has been executed in the\n",
              "      current browser session. Please rerun this cell to enable.\n",
              "      </output>\n",
              "      <script src=\"/nbextensions/google.colab/files.js\"></script> "
            ],
            "text/plain": [
              "<IPython.core.display.HTML object>"
            ]
          },
          "metadata": {
            "tags": []
          }
        },
        {
          "output_type": "stream",
          "text": [
            "Saving processed_tweets.csv to processed_tweets.csv\n",
            "User uploaded file \"processed_tweets.csv\" with length 1558482 bytes\n"
          ],
          "name": "stdout"
        }
      ]
    },
    {
      "cell_type": "code",
      "metadata": {
        "colab": {
          "resources": {
            "http://localhost:8080/nbextensions/google.colab/files.js": {
              "data": "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",
              "ok": true,
              "headers": [
                [
                  "content-type",
                  "application/javascript"
                ]
              ],
              "status": 200,
              "status_text": ""
            }
          },
          "base_uri": "https://localhost:8080/",
          "height": 89
        },
        "id": "EjA9gYBSR7Yz",
        "outputId": "e7170cdb-543f-4802-92ef-9c7fed1cbb6a"
      },
      "source": [
        "features = upload_matrix()"
      ],
      "execution_count": 5,
      "outputs": [
        {
          "output_type": "display_data",
          "data": {
            "text/html": [
              "\n",
              "     <input type=\"file\" id=\"files-798f5b80-b8d2-4bb9-979f-7ade8371ba52\" name=\"files[]\" multiple disabled\n",
              "        style=\"border:none\" />\n",
              "     <output id=\"result-798f5b80-b8d2-4bb9-979f-7ade8371ba52\">\n",
              "      Upload widget is only available when the cell has been executed in the\n",
              "      current browser session. Please rerun this cell to enable.\n",
              "      </output>\n",
              "      <script src=\"/nbextensions/google.colab/files.js\"></script> "
            ],
            "text/plain": [
              "<IPython.core.display.HTML object>"
            ]
          },
          "metadata": {
            "tags": []
          }
        },
        {
          "output_type": "stream",
          "text": [
            "Saving selected_features.npz to selected_features.npz\n",
            "User uploaded file \"selected_features.npz\" with length 2757255 bytes\n"
          ],
          "name": "stdout"
        }
      ]
    },
    {
      "cell_type": "markdown",
      "metadata": {
        "id": "gg7o1k-2SN6I"
      },
      "source": [
        "This is the form each data:"
      ]
    },
    {
      "cell_type": "code",
      "metadata": {
        "id": "bbQElz0KSBdK",
        "colab": {
          "base_uri": "https://localhost:8080/",
          "height": 453
        },
        "outputId": "3a195707-a2cf-46d4-d018-01f0233079a7"
      },
      "source": [
        "tweets"
      ],
      "execution_count": 6,
      "outputs": [
        {
          "output_type": "execute_result",
          "data": {
            "text/html": [
              "<div>\n",
              "<style scoped>\n",
              "    .dataframe tbody tr th:only-of-type {\n",
              "        vertical-align: middle;\n",
              "    }\n",
              "\n",
              "    .dataframe tbody tr th {\n",
              "        vertical-align: top;\n",
              "    }\n",
              "\n",
              "    .dataframe thead th {\n",
              "        text-align: right;\n",
              "    }\n",
              "</style>\n",
              "<table border=\"1\" class=\"dataframe\">\n",
              "  <thead>\n",
              "    <tr style=\"text-align: right;\">\n",
              "      <th></th>\n",
              "      <th>Unnamed: 0</th>\n",
              "      <th>count</th>\n",
              "      <th>hate_speech</th>\n",
              "      <th>offensive_language</th>\n",
              "      <th>neither</th>\n",
              "      <th>class</th>\n",
              "      <th>tweet</th>\n",
              "    </tr>\n",
              "  </thead>\n",
              "  <tbody>\n",
              "    <tr>\n",
              "      <th>0</th>\n",
              "      <td>0</td>\n",
              "      <td>3</td>\n",
              "      <td>0</td>\n",
              "      <td>0</td>\n",
              "      <td>3</td>\n",
              "      <td>2</td>\n",
              "      <td>rt woman complain cleaning house man always ta...</td>\n",
              "    </tr>\n",
              "    <tr>\n",
              "      <th>1</th>\n",
              "      <td>1</td>\n",
              "      <td>3</td>\n",
              "      <td>0</td>\n",
              "      <td>3</td>\n",
              "      <td>0</td>\n",
              "      <td>1</td>\n",
              "      <td>rt boy dat coldtyga dwn bad cuffin dat hoe 1st...</td>\n",
              "    </tr>\n",
              "    <tr>\n",
              "      <th>2</th>\n",
              "      <td>2</td>\n",
              "      <td>3</td>\n",
              "      <td>0</td>\n",
              "      <td>3</td>\n",
              "      <td>0</td>\n",
              "      <td>1</td>\n",
              "      <td>rt dawg rt ever fuck bitch start cry confused ...</td>\n",
              "    </tr>\n",
              "    <tr>\n",
              "      <th>3</th>\n",
              "      <td>3</td>\n",
              "      <td>3</td>\n",
              "      <td>0</td>\n",
              "      <td>2</td>\n",
              "      <td>1</td>\n",
              "      <td>1</td>\n",
              "      <td>rt look like tranny</td>\n",
              "    </tr>\n",
              "    <tr>\n",
              "      <th>4</th>\n",
              "      <td>4</td>\n",
              "      <td>6</td>\n",
              "      <td>0</td>\n",
              "      <td>6</td>\n",
              "      <td>0</td>\n",
              "      <td>1</td>\n",
              "      <td>rt shit hear might true might faker bitch told...</td>\n",
              "    </tr>\n",
              "    <tr>\n",
              "      <th>...</th>\n",
              "      <td>...</td>\n",
              "      <td>...</td>\n",
              "      <td>...</td>\n",
              "      <td>...</td>\n",
              "      <td>...</td>\n",
              "      <td>...</td>\n",
              "      <td>...</td>\n",
              "    </tr>\n",
              "    <tr>\n",
              "      <th>24778</th>\n",
              "      <td>24778</td>\n",
              "      <td>3</td>\n",
              "      <td>0</td>\n",
              "      <td>2</td>\n",
              "      <td>1</td>\n",
              "      <td>1</td>\n",
              "      <td>yous muthafin lie right tl trash … mine bible ...</td>\n",
              "    </tr>\n",
              "    <tr>\n",
              "      <th>24779</th>\n",
              "      <td>24779</td>\n",
              "      <td>3</td>\n",
              "      <td>0</td>\n",
              "      <td>1</td>\n",
              "      <td>2</td>\n",
              "      <td>2</td>\n",
              "      <td>gone broke wrong heart baby drove redneck crazy</td>\n",
              "    </tr>\n",
              "    <tr>\n",
              "      <th>24780</th>\n",
              "      <td>24780</td>\n",
              "      <td>3</td>\n",
              "      <td>0</td>\n",
              "      <td>3</td>\n",
              "      <td>0</td>\n",
              "      <td>1</td>\n",
              "      <td>young buck wan na eat dat nigguh like aint fuc...</td>\n",
              "    </tr>\n",
              "    <tr>\n",
              "      <th>24781</th>\n",
              "      <td>24781</td>\n",
              "      <td>6</td>\n",
              "      <td>0</td>\n",
              "      <td>6</td>\n",
              "      <td>0</td>\n",
              "      <td>1</td>\n",
              "      <td>youu got wild bitch tellin lie</td>\n",
              "    </tr>\n",
              "    <tr>\n",
              "      <th>24782</th>\n",
              "      <td>24782</td>\n",
              "      <td>3</td>\n",
              "      <td>0</td>\n",
              "      <td>0</td>\n",
              "      <td>3</td>\n",
              "      <td>2</td>\n",
              "      <td>ruffled ntac eileen dahlia beautiful color com...</td>\n",
              "    </tr>\n",
              "  </tbody>\n",
              "</table>\n",
              "<p>24783 rows × 7 columns</p>\n",
              "</div>"
            ],
            "text/plain": [
              "       Unnamed: 0  ...                                              tweet\n",
              "0               0  ...  rt woman complain cleaning house man always ta...\n",
              "1               1  ...  rt boy dat coldtyga dwn bad cuffin dat hoe 1st...\n",
              "2               2  ...  rt dawg rt ever fuck bitch start cry confused ...\n",
              "3               3  ...                                rt look like tranny\n",
              "4               4  ...  rt shit hear might true might faker bitch told...\n",
              "...           ...  ...                                                ...\n",
              "24778       24778  ...  yous muthafin lie right tl trash … mine bible ...\n",
              "24779       24779  ...    gone broke wrong heart baby drove redneck crazy\n",
              "24780       24780  ...  young buck wan na eat dat nigguh like aint fuc...\n",
              "24781       24781  ...                     youu got wild bitch tellin lie\n",
              "24782       24782  ...  ruffled ntac eileen dahlia beautiful color com...\n",
              "\n",
              "[24783 rows x 7 columns]"
            ]
          },
          "metadata": {
            "tags": []
          },
          "execution_count": 6
        }
      ]
    },
    {
      "cell_type": "code",
      "metadata": {
        "id": "MH0nbverSFVy",
        "colab": {
          "base_uri": "https://localhost:8080/"
        },
        "outputId": "937d91eb-3ad0-49ea-a934-a01df832df52"
      },
      "source": [
        "features"
      ],
      "execution_count": 7,
      "outputs": [
        {
          "output_type": "execute_result",
          "data": {
            "text/plain": [
              "<24783x2548 sparse matrix of type '<class 'numpy.float64'>'\n",
              "\twith 381643 stored elements in Compressed Sparse Row format>"
            ]
          },
          "metadata": {
            "tags": []
          },
          "execution_count": 7
        }
      ]
    },
    {
      "cell_type": "markdown",
      "metadata": {
        "id": "t-EkEdMBrQYi"
      },
      "source": [
        "### 4.3 Preprocessing"
      ]
    },
    {
      "cell_type": "markdown",
      "metadata": {
        "id": "LjhCoafBrZ0P"
      },
      "source": [
        "It is recommendable, before creating the classification model of the tweets dataset, to move to the same scale the selected features extracted by the vectorization of these tweets. This is done by the normalization."
      ]
    },
    {
      "cell_type": "code",
      "metadata": {
        "id": "HWPGey0TlyIc"
      },
      "source": [
        "features_norm = sp.csr_matrix(MinMaxScaler().fit_transform(features.todense()))"
      ],
      "execution_count": 8,
      "outputs": []
    },
    {
      "cell_type": "markdown",
      "metadata": {
        "id": "7xhWI9chLQvW"
      },
      "source": [
        "Also it would be helpful to see how many entries correspond to each of the classes."
      ]
    },
    {
      "cell_type": "code",
      "metadata": {
        "id": "zHue4wCPLa-x",
        "colab": {
          "base_uri": "https://localhost:8080/",
          "height": 484
        },
        "outputId": "7a0e1a3e-ef9d-488c-f2cc-d5610597d0b8"
      },
      "source": [
        "print(tweets.groupby('class').size())\r\n",
        "sns.set(style='darkgrid') \r\n",
        "sns.catplot(x='class', data=tweets, kind='count')"
      ],
      "execution_count": 9,
      "outputs": [
        {
          "output_type": "stream",
          "text": [
            "class\n",
            "0     1430\n",
            "1    19190\n",
            "2     4163\n",
            "dtype: int64\n"
          ],
          "name": "stdout"
        },
        {
          "output_type": "execute_result",
          "data": {
            "text/plain": [
              "<seaborn.axisgrid.FacetGrid at 0x7f26b1a47898>"
            ]
          },
          "metadata": {
            "tags": []
          },
          "execution_count": 9
        },
        {
          "output_type": "display_data",
          "data": {
            "image/png": "[encoded data removed]",
            "text/plain": [
              "<Figure size 360x360 with 1 Axes>"
            ]
          },
          "metadata": {
            "tags": []
          }
        }
      ]
    },
    {
      "cell_type": "markdown",
      "metadata": {
        "id": "3pTE5rxvXeFq"
      },
      "source": [
        "## 4.4 Naive Bayes Classification"
      ]
    },
    {
      "cell_type": "markdown",
      "metadata": {
        "id": "pl36-7cHZRSz"
      },
      "source": [
        "The first classification algorithm applied to the tweets is going to be the naive bayes classification. This algorithm is caracterized of being the preferred for text classification, due to be better with multi class problems.\r\n",
        "\r\n"
      ]
    },
    {
      "cell_type": "markdown",
      "metadata": {
        "id": "hYMd4ZBttQYo"
      },
      "source": [
        "### 4.4.1 Splitting train and test"
      ]
    },
    {
      "cell_type": "markdown",
      "metadata": {
        "id": "Rw6EPQeltrWn"
      },
      "source": [
        "After having features normalized, the next step necessary to do supervised learning is to split the dataset into train and test sets. In this case, the features that are going to be analyzed and the labels that are going to be predicted, they are separated, so the the different sets also will be separated. The labels of our dataset is represented by the **class** column of the tweets dataframe **processed_tweets.csv**."
      ]
    },
    {
      "cell_type": "code",
      "metadata": {
        "id": "6zGaUFls5-o2"
      },
      "source": [
        "X_train, X_test, y_train, y_test = train_test_split(features_norm, tweets['class'], test_size=.3)"
      ],
      "execution_count": 10,
      "outputs": []
    },
    {
      "cell_type": "markdown",
      "metadata": {
        "id": "VBrlIJ94wFMy"
      },
      "source": [
        "### 4.4.2 Cross validation"
      ]
    },
    {
      "cell_type": "markdown",
      "metadata": {
        "id": "15VSdxd4wRRA"
      },
      "source": [
        "The Naive Bayes algorithm have different implementations. For this reason it is necessary to choose the one that have a better performance in its predictions and the one that has the better accuracy score.\r\n",
        "\r\n",
        "---\r\n",
        "The method above have one disadvantage. This disadvantage is that the model can become complex and not very general for other data. To avoid that, one solution is to do cross validation. This consists into split the train set into other subsets of train and test, and do this many times to have more realistic evaluation of the model."
      ]
    },
    {
      "cell_type": "code",
      "metadata": {
        "id": "3IizTLESm5SV"
      },
      "source": [
        "# Preparing the cross validation\r\n",
        "cv = KFold(n_splits=10, shuffle=True)"
      ],
      "execution_count": 11,
      "outputs": []
    },
    {
      "cell_type": "code",
      "metadata": {
        "id": "5V2i46J4omal"
      },
      "source": [
        "# Listing alf the different implementations of Naive Bayes\r\n",
        "names = ['GaussianNB', 'MultiNomialNB', 'BernoulliNB', 'ComplementNB']\r\n",
        "classifiers = [GaussianNB(), MultinomialNB(), BernoulliNB(), ComplementNB()]"
      ],
      "execution_count": 12,
      "outputs": []
    },
    {
      "cell_type": "code",
      "metadata": {
        "id": "KDEC3dzEoz4H",
        "colab": {
          "base_uri": "https://localhost:8080/",
          "height": 338
        },
        "outputId": "6f0dd0b6-ad7c-448c-e59d-dca4be77f6da"
      },
      "source": [
        "classifiers_acc = []\r\n",
        "\r\n",
        "for clf in classifiers:\r\n",
        "  fold_accuracy = []\r\n",
        "  for train_fold, test_fold in cv.split(X_train, y_train):\r\n",
        "    # Random division of the train set to do cross validation\r\n",
        "    f_train_X = X_train[train_fold]\r\n",
        "    f_test_X = X_train[test_fold]\r\n",
        "    f_train_y = y_train.iloc[train_fold]\r\n",
        "    f_test_y = y_train.iloc[test_fold]\r\n",
        "    # FIT THE MODEL\r\n",
        "    f_model = clf.fit(f_train_X.todense(), f_train_y)\r\n",
        "    # PREDICT AND SCORE\r\n",
        "    accuracy = f_model.score(f_test_X.todense(), f_test_y)\r\n",
        "    fold_accuracy.append(accuracy)\r\n",
        "  classifiers_acc.append(sum(fold_accuracy)/len(fold_accuracy))\r\n",
        "\r\n",
        "fig = plt.figure()\r\n",
        "ax = fig.add_axes([0,0,1,1])\r\n",
        "ax.bar(names, classifiers_acc)\r\n",
        "plt.ylabel('Accuracy')\r\n",
        "plt.show()"
      ],
      "execution_count": 13,
      "outputs": [
        {
          "output_type": "display_data",
          "data": {
            "image/png": "[encoded data removed]",
            "text/plain": [
              "<Figure size 432x288 with 1 Axes>"
            ]
          },
          "metadata": {
            "tags": []
          }
        }
      ]
    },
    {
      "cell_type": "markdown",
      "metadata": {
        "id": "QEVi4oZk5HtA"
      },
      "source": [
        "The model that have better accuracy is the BernoulliNB, so it will be the implementation used. This result could be explained because it assumes that features are binary-valued variable, and the vectorization of the tweets have a very similar behaviour."
      ]
    },
    {
      "cell_type": "markdown",
      "metadata": {
        "id": "odouk-7f4_N_"
      },
      "source": [
        "### 4.4.3 Building model"
      ]
    },
    {
      "cell_type": "markdown",
      "metadata": {
        "id": "7MXm9kwN5HMC"
      },
      "source": [
        "The implementation of Naive Bayes algorithm choosen is BernoulliNB, for the creation of the model."
      ]
    },
    {
      "cell_type": "code",
      "metadata": {
        "id": "nKuxB8-Y5Jcd",
        "colab": {
          "base_uri": "https://localhost:8080/"
        },
        "outputId": "c03a1830-2fd3-493e-815a-bec9f574b9af"
      },
      "source": [
        "clf = BernoulliNB() \r\n",
        "clf.fit(X_train, y_train)\r\n",
        "y_pred = clf.predict(X_test)\r\n",
        "acc = accuracy_score(y_test, y_pred)\r\n",
        "precision = precision_score(y_test, y_pred, average='weighted')\r\n",
        "f1 = f1_score(y_test, y_pred, average='weighted')\r\n",
        "recall = recall_score(y_test, y_pred, average='weighted')\r\n",
        "print ('Accuracy of the Naive Bayes model: ', acc)\r\n",
        "print ('Precision of the Naive Bayes model: ', precision)\r\n",
        "print ('Recall of the Naive Bayes model: ', recall)\r\n",
        "print ('F-measure of the Naive Bayes model: ', f1)"
      ],
      "execution_count": 14,
      "outputs": [
        {
          "output_type": "stream",
          "text": [
            "Accuracy of the Naive Bayes model:  0.9000672494956288\n",
            "Precision of the Naive Bayes model:  0.8973920349590921\n",
            "Recall of the Naive Bayes model:  0.9000672494956288\n",
            "F-measure of the Naive Bayes model:  0.8985056734027925\n"
          ],
          "name": "stdout"
        }
      ]
    },
    {
      "cell_type": "markdown",
      "metadata": {
        "id": "KcszP4bM5KPB"
      },
      "source": [
        "### 4.4.4 Evaluation of the model"
      ]
    },
    {
      "cell_type": "markdown",
      "metadata": {
        "id": "l9UnlYR15Non"
      },
      "source": [
        "For the evaluation, it will be shown the confusion matrix, that represents the real labels comparated with the labels predicted, and if the predictions were correct or not."
      ]
    },
    {
      "cell_type": "code",
      "metadata": {
        "id": "arOHKr5M_cRz"
      },
      "source": [
        "def plot_confusion_matrix(y_true, y_pred, classes,\r\n",
        "                          normalize=False,\r\n",
        "                          title=None,\r\n",
        "                          cmap=plt.cm.Blues):\r\n",
        "    \"\"\"\r\n",
        "    This function prints and plots the confusion matrix.\r\n",
        "    Normalization can be applied by setting `normalize=True`.\r\n",
        "    \"\"\"\r\n",
        "    if not title:\r\n",
        "        if normalize:\r\n",
        "            title = 'Normalized confusion matrix'\r\n",
        "        else:\r\n",
        "            title = 'Confusion matrix, without normalization'\r\n",
        "\r\n",
        "    # Compute confusion matrix\r\n",
        "    cm = confusion_matrix(y_true, y_pred)\r\n",
        "    # Only use the labels that appear in the data\r\n",
        "    classes = classes[unique_labels(y_true, y_pred)]\r\n",
        "    if normalize:\r\n",
        "        cm = cm.astype('float') / cm.sum(axis=1)[:, np.newaxis]\r\n",
        "        print(\"Normalized confusion matrix\")\r\n",
        "    else:\r\n",
        "        print('Confusion matrix, without normalization')\r\n",
        "\r\n",
        "    print(cm)\r\n",
        "\r\n",
        "    fig, ax = plt.subplots()\r\n",
        "    im = ax.imshow(cm, interpolation='nearest', cmap=cmap)\r\n",
        "    ax.figure.colorbar(im, ax=ax)\r\n",
        "    # We want to show all ticks...\r\n",
        "    ax.set(xticks=np.arange(cm.shape[1]),\r\n",
        "           yticks=np.arange(cm.shape[0]),\r\n",
        "           # ... and label them with the respective list entries\r\n",
        "           xticklabels=classes, yticklabels=classes,\r\n",
        "           title=title,\r\n",
        "           ylabel='True label',\r\n",
        "           xlabel='Predicted label')\r\n",
        "\r\n",
        "    # Rotate the tick labels and set their alignment.\r\n",
        "    plt.setp(ax.get_xticklabels(), rotation=45, ha=\"right\",\r\n",
        "             rotation_mode=\"anchor\")\r\n",
        "\r\n",
        "    # Loop over data dimensions and create text annotations.\r\n",
        "    fmt = '.2f' if normalize else 'd'\r\n",
        "    thresh = cm.max() / 2.\r\n",
        "    for i in range(cm.shape[0]):\r\n",
        "        for j in range(cm.shape[1]):\r\n",
        "            ax.text(j, i, format(cm[i, j], fmt),\r\n",
        "                    ha=\"center\", va=\"center\",\r\n",
        "                    color=\"white\" if cm[i, j] > thresh else \"black\")\r\n",
        "    fig.tight_layout()\r\n",
        "    return ax"
      ],
      "execution_count": 15,
      "outputs": []
    },
    {
      "cell_type": "markdown",
      "metadata": {
        "id": "apsy_-XsDI8T"
      },
      "source": [
        "As a reminder, the classes represents the following:\r\n",
        "\r\n",
        "*   0 - Hate speech tweets.\r\n",
        "*   1 - Offensive language tweets\r\n",
        "*   2 - Neither tweets\r\n",
        "\r\n"
      ]
    },
    {
      "cell_type": "code",
      "metadata": {
        "id": "eIo4gfBW_ooG",
        "colab": {
          "base_uri": "https://localhost:8080/",
          "height": 378
        },
        "outputId": "5b6e26d7-9925-4a70-af48-18a6ce2c1e10"
      },
      "source": [
        "plot_confusion_matrix(y_test, y_pred , classes = unique_labels(y_test, y_pred),\r\n",
        "                      normalize=True, title='Confusion matrix')"
      ],
      "execution_count": 16,
      "outputs": [
        {
          "output_type": "stream",
          "text": [
            "Normalized confusion matrix\n",
            "[[0.44552058 0.4503632  0.10411622]\n",
            " [0.02669903 0.9415742  0.03172677]\n",
            " [0.01116427 0.12998405 0.85885167]]\n"
          ],
          "name": "stdout"
        },
        {
          "output_type": "execute_result",
          "data": {
            "text/plain": [
              "<matplotlib.axes._subplots.AxesSubplot at 0x7f26a94c2400>"
            ]
          },
          "metadata": {
            "tags": []
          },
          "execution_count": 16
        },
        {
          "output_type": "display_data",
          "data": {
            "image/png": "[encoded data removed]",
            "text/plain": [
              "<Figure size 432x288 with 2 Axes>"
            ]
          },
          "metadata": {
            "tags": []
          }
        }
      ]
    },
    {
      "cell_type": "markdown",
      "metadata": {
        "id": "GBce1-VPDAZh"
      },
      "source": [
        "The confusion matrix shows that there is a great percentage of true predicted offensive language tweets and _neither_ tweets. The conflict is the fact that there are some tweets that there is a great percentage of tweets predicted as offensive language, being really hate speech tweets. This may be because both labels are very correlated and similar, because they are difficult to differentiate each other, even for one human."
      ]
    },
    {
      "cell_type": "code",
      "metadata": {
        "id": "t-m9c3w4GWXg",
        "colab": {
          "base_uri": "https://localhost:8080/",
          "height": 302
        },
        "outputId": "01d6e413-93f3-4e3f-d62a-1bbf4e5f566f"
      },
      "source": [
        "cm = confusion_matrix(y_test, y_pred)\r\n",
        "sns.heatmap(cm, square=True, annot=True, fmt='d', cbar=False,\r\n",
        "            xticklabels=[0,1,2], yticklabels=[0,1,2])\r\n",
        "plt.xlabel('true label')\r\n",
        "plt.ylabel('predicted label')"
      ],
      "execution_count": 17,
      "outputs": [
        {
          "output_type": "execute_result",
          "data": {
            "text/plain": [
              "Text(89.18, 0.5, 'predicted label')"
            ]
          },
          "metadata": {
            "tags": []
          },
          "execution_count": 17
        },
        {
          "output_type": "display_data",
          "data": {
            "image/png": "[encoded data removed]",
            "text/plain": [
              "<Figure size 432x288 with 1 Axes>"
            ]
          },
          "metadata": {
            "tags": []
          }
        }
      ]
    },
    {
      "cell_type": "markdown",
      "metadata": {
        "id": "sBGvG3iKG8J8"
      },
      "source": [
        "The class with more affluence of tweets is the offensive language tweets. The class with less affluence of tweets is the hate speech tweets.\r\n",
        "\r\n",
        "For this reason, the error in this class is not as relevant as the other classes. This is why the accuracy is not very affected by this false values."
      ]
    },
    {
      "cell_type": "markdown",
      "metadata": {
        "id": "EeHFNcXoIPDR"
      },
      "source": [
        "## 4.5 Random Forest Classification"
      ]
    },
    {
      "cell_type": "markdown",
      "metadata": {
        "id": "efZ58klRIhN_"
      },
      "source": [
        "The next classification algorithm used will be the **Random Forests**. This is a machine learning algorithm that is made of ensembles, which is an aproach to the divide-and-conquer idea. This implementation improves the performance of the model. The result of this model is the combination of trees to create a robust model.  "
      ]
    },
    {
      "cell_type": "markdown",
      "metadata": {
        "id": "zJ3e2tzPQnMo"
      },
      "source": [
        "### 4.5.1 Splitting train and test"
      ]
    },
    {
      "cell_type": "markdown",
      "metadata": {
        "id": "nUrS__YSQnMt"
      },
      "source": [
        "As well as Naive Bayes classifier, it is also necessary to split the dataset in train and test sets. It is possible to use the above splitted data, but, for having a better model, the splitting is going to be done another time. "
      ]
    },
    {
      "cell_type": "code",
      "metadata": {
        "id": "9vtmtFAVQnMu"
      },
      "source": [
        "X_train, X_test, y_train, y_test = train_test_split(features_norm, tweets['class'], test_size=.3)"
      ],
      "execution_count": 18,
      "outputs": []
    },
    {
      "cell_type": "markdown",
      "metadata": {
        "id": "Vh3WxmrZS6Zv"
      },
      "source": [
        "### 4.5.2 Cross validation"
      ]
    },
    {
      "cell_type": "markdown",
      "metadata": {
        "id": "6U8h9xLTAkFr"
      },
      "source": [
        "The goal is to train some models with cross validation to see how this model behaves with different bunch of train data, to avoid overfitting."
      ]
    },
    {
      "cell_type": "code",
      "metadata": {
        "id": "cFmMsM_MS63S"
      },
      "source": [
        "cv = KFold(n_splits=10, shuffle=True)"
      ],
      "execution_count": 19,
      "outputs": []
    },
    {
      "cell_type": "code",
      "metadata": {
        "id": "nWcv5aa2iGco",
        "colab": {
          "base_uri": "https://localhost:8080/"
        },
        "outputId": "b09718e1-c87b-4c27-bfc4-845e9d15c786"
      },
      "source": [
        "fold_accuracy = []\r\n",
        "\r\n",
        "for train_fold, test_fold in cv.split(X_train, y_train):\r\n",
        "  # Random division of the train set to do cross validation\r\n",
        "  f_train_X = X_train[train_fold]\r\n",
        "  f_test_X = X_train[test_fold]\r\n",
        "  f_train_y = y_train.iloc[train_fold]\r\n",
        "  f_test_y = y_train.iloc[test_fold]\r\n",
        "  # FIT THE MODEL\r\n",
        "  f_model = RandomForestClassifier().fit(f_train_X.todense(), f_train_y)\r\n",
        "  # PREDICT AND SCORE\r\n",
        "  accuracy = f_model.score(f_test_X.todense(), f_test_y)\r\n",
        "  fold_accuracy.append(accuracy)\r\n",
        "forest_accuracy = sum(fold_accuracy)/len(fold_accuracy)\r\n",
        "\r\n",
        "print('Estimated accuracy of Random Forest implementation: ', forest_accuracy)"
      ],
      "execution_count": 20,
      "outputs": [
        {
          "output_type": "stream",
          "text": [
            "Estimated accuracy of Random Forest implementation:  0.880273725357239\n"
          ],
          "name": "stdout"
        }
      ]
    },
    {
      "cell_type": "markdown",
      "metadata": {
        "id": "z16lFo3IzjHb"
      },
      "source": [
        "### 4.5.3 Building model"
      ]
    },
    {
      "cell_type": "code",
      "metadata": {
        "colab": {
          "base_uri": "https://localhost:8080/"
        },
        "id": "eBl47wjEzjHh",
        "outputId": "0d329904-0c76-4eef-a120-c8cf1c7d6c98"
      },
      "source": [
        "model = RandomForestClassifier() \r\n",
        "model.fit(X_train, y_train)\r\n",
        "y_pred = model.predict(X_test)\r\n",
        "acc = accuracy_score(y_test, y_pred)\r\n",
        "precision = precision_score(y_test, y_pred, average='weighted')\r\n",
        "f1 = f1_score(y_test, y_pred, average='weighted')\r\n",
        "recall = recall_score(y_test, y_pred, average='weighted')\r\n",
        "print ('Accuracy of the Random Forest model: ', acc)\r\n",
        "print ('Precision of the Random Forest model: ', precision)\r\n",
        "print ('Recall of the Random Forest model: ', recall)\r\n",
        "print ('F-measure of the Random Forest model: ', f1)"
      ],
      "execution_count": 21,
      "outputs": [
        {
          "output_type": "stream",
          "text": [
            "Accuracy of the Random Forest model:  0.8843308675184937\n",
            "Precision of the Random Forest model:  0.8726247457716333\n",
            "Recall of the Random Forest model:  0.8843308675184937\n",
            "F-measure of the Random Forest model:  0.8704668081261213\n"
          ],
          "name": "stdout"
        }
      ]
    },
    {
      "cell_type": "markdown",
      "metadata": {
        "id": "fiASTWdt0eS0"
      },
      "source": [
        "### 4.5.4 Evaluation of the model"
      ]
    },
    {
      "cell_type": "markdown",
      "metadata": {
        "id": "7THZb8bx0eS_"
      },
      "source": [
        "As equal with NB, it will be shown the confusion matrix obtained by the testing of the model"
      ]
    },
    {
      "cell_type": "markdown",
      "metadata": {
        "id": "Oz2xFwaq0eTA"
      },
      "source": [
        "\r\n",
        "*   0 - Hate speech tweets.\r\n",
        "*   1 - Offensive language tweets\r\n",
        "*   2 - Neither tweets\r\n",
        "\r\n"
      ]
    },
    {
      "cell_type": "code",
      "metadata": {
        "colab": {
          "base_uri": "https://localhost:8080/",
          "height": 378
        },
        "id": "MDGC7LGg0eTA",
        "outputId": "1f94d70f-c425-4ce8-ec7d-d9f9ad8fc3e0"
      },
      "source": [
        "plot_confusion_matrix(y_test, y_pred , classes = unique_labels(y_test, y_pred),\r\n",
        "                      normalize=True, title='Confusion matrix')"
      ],
      "execution_count": 22,
      "outputs": [
        {
          "output_type": "stream",
          "text": [
            "Normalized confusion matrix\n",
            "[[0.1713615  0.72535211 0.10328638]\n",
            " [0.00687049 0.95723119 0.03589832]\n",
            " [0.00252738 0.2148273  0.78264532]]\n"
          ],
          "name": "stdout"
        },
        {
          "output_type": "execute_result",
          "data": {
            "text/plain": [
              "<matplotlib.axes._subplots.AxesSubplot at 0x7f26a99a4b38>"
            ]
          },
          "metadata": {
            "tags": []
          },
          "execution_count": 22
        },
        {
          "output_type": "display_data",
          "data": {
            "image/png": "[encoded data removed]",
            "text/plain": [
              "<Figure size 432x288 with 2 Axes>"
            ]
          },
          "metadata": {
            "tags": []
          }
        }
      ]
    },
    {
      "cell_type": "code",
      "metadata": {
        "colab": {
          "base_uri": "https://localhost:8080/",
          "height": 302
        },
        "id": "Qq2CJCt80eTC",
        "outputId": "5ae2f976-e1b2-4349-e5a0-e918a9c2c3be"
      },
      "source": [
        "cm = confusion_matrix(y_test, y_pred)\r\n",
        "sns.heatmap(cm, square=True, annot=True, fmt='d', cbar=False,\r\n",
        "            xticklabels=[0,1,2], yticklabels=[0,1,2])\r\n",
        "plt.xlabel('true label')\r\n",
        "plt.ylabel('predicted label')"
      ],
      "execution_count": 23,
      "outputs": [
        {
          "output_type": "execute_result",
          "data": {
            "text/plain": [
              "Text(89.18, 0.5, 'predicted label')"
            ]
          },
          "metadata": {
            "tags": []
          },
          "execution_count": 23
        },
        {
          "output_type": "display_data",
          "data": {
            "image/png": "[encoded data removed]",
            "text/plain": [
              "<Figure size 432x288 with 1 Axes>"
            ]
          },
          "metadata": {
            "tags": []
          }
        }
      ]
    },
    {
      "cell_type": "markdown",
      "metadata": {
        "id": "PP4DGEje018j"
      },
      "source": [
        "## 4.6 Conclusions"
      ]
    },
    {
      "cell_type": "markdown",
      "metadata": {
        "id": "sL4X8PhD08aW"
      },
      "source": [
        "With all of these results, it is extracted that the model with better performance is the Naive Bayes model, against the Random Forests model. This difference can be explained, as mentioned before, because Naive Bayes is an algorithm used mostly for text classification. \r\n",
        "\r\n",
        "There are many reasons that can explain the popularity of Naive Bayes in this terms. \r\n",
        "\r\n",
        "One of these reasons could be the independence of each feature in the perform of the predictors. For example, if one word that is not polite, this can predict that it is an offensive tweet, indepently of the other words that appear in it.\r\n",
        "\r\n",
        "Other reason can be the good performance with multilabeled classification.\r\n",
        "\r\n",
        "Finally, it can be a good idea to implements techniques of implementing hyperparameter optimization for the algorithms to improve the models. However, it can mean a higher cost of training."
      ]
    }
  ]
}